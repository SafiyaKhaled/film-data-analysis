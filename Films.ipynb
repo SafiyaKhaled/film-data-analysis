{
 "cells": [
  {
   "cell_type": "code",
   "execution_count": 1,
   "id": "e2bf5556",
   "metadata": {},
   "outputs": [],
   "source": [
    "import pandas as pd\n",
    "import numpy as np\n",
    "import matplotlib.pyplot as plt\n",
    "%matplotlib inline\n",
    "import seaborn as sns\n",
    "import plotly.express as px"
   ]
  },
  {
   "cell_type": "code",
   "execution_count": 2,
   "id": "bbd25d1e",
   "metadata": {},
   "outputs": [],
   "source": [
    "pd.set_option('display.max_columns', None)"
   ]
  },
  {
   "cell_type": "code",
   "execution_count": 12,
   "id": "5a9022c4",
   "metadata": {},
   "outputs": [],
   "source": [
    "df= pd.read_csv('Letterbox Movie Classification Dataset.csv')"
   ]
  },
  {
   "cell_type": "code",
   "execution_count": 4,
   "id": "b4e387a4",
   "metadata": {},
   "outputs": [
    {
     "data": {
      "text/html": [
       "<div>\n",
       "<style scoped>\n",
       "    .dataframe tbody tr th:only-of-type {\n",
       "        vertical-align: middle;\n",
       "    }\n",
       "\n",
       "    .dataframe tbody tr th {\n",
       "        vertical-align: top;\n",
       "    }\n",
       "\n",
       "    .dataframe thead th {\n",
       "        text-align: right;\n",
       "    }\n",
       "</style>\n",
       "<table border=\"1\" class=\"dataframe\">\n",
       "  <thead>\n",
       "    <tr style=\"text-align: right;\">\n",
       "      <th></th>\n",
       "      <th>Unnamed: 0</th>\n",
       "      <th>Film_title</th>\n",
       "      <th>Director</th>\n",
       "      <th>Average_rating</th>\n",
       "      <th>Genres</th>\n",
       "      <th>Runtime</th>\n",
       "      <th>Original_language</th>\n",
       "      <th>Description</th>\n",
       "      <th>Studios</th>\n",
       "      <th>Watches</th>\n",
       "      <th>List_appearances</th>\n",
       "      <th>Likes</th>\n",
       "      <th>Fans</th>\n",
       "      <th>Lowest★</th>\n",
       "      <th>Medium★★★</th>\n",
       "      <th>Highest★★★★★</th>\n",
       "      <th>Total_ratings</th>\n",
       "    </tr>\n",
       "  </thead>\n",
       "  <tbody>\n",
       "    <tr>\n",
       "      <th>0</th>\n",
       "      <td>0</td>\n",
       "      <td>The Fan</td>\n",
       "      <td>Eckhart Schmidt</td>\n",
       "      <td>3.57</td>\n",
       "      <td>['Horror', 'Drama']</td>\n",
       "      <td>92.0</td>\n",
       "      <td>German</td>\n",
       "      <td>The hero-worship that Simone has for a pop sin...</td>\n",
       "      <td>['Barbara Moorse Workshop']</td>\n",
       "      <td>12841</td>\n",
       "      <td>11032</td>\n",
       "      <td>3763</td>\n",
       "      <td>79</td>\n",
       "      <td>129</td>\n",
       "      <td>1660</td>\n",
       "      <td>714</td>\n",
       "      <td>9042</td>\n",
       "    </tr>\n",
       "    <tr>\n",
       "      <th>1</th>\n",
       "      <td>1</td>\n",
       "      <td>Mad Max: Fury Road</td>\n",
       "      <td>George Miller</td>\n",
       "      <td>4.18</td>\n",
       "      <td>['Adventure', 'Science Fiction', 'Action']</td>\n",
       "      <td>121.0</td>\n",
       "      <td>English</td>\n",
       "      <td>An apocalyptic story set in the furthest reach...</td>\n",
       "      <td>['Warner Bros. Pictures', 'Village Roadshow Pi...</td>\n",
       "      <td>2488721</td>\n",
       "      <td>331681</td>\n",
       "      <td>927538</td>\n",
       "      <td>38000</td>\n",
       "      <td>12530</td>\n",
       "      <td>158356</td>\n",
       "      <td>511140</td>\n",
       "      <td>1682389</td>\n",
       "    </tr>\n",
       "    <tr>\n",
       "      <th>2</th>\n",
       "      <td>2</td>\n",
       "      <td>Suspiria</td>\n",
       "      <td>Dario Argento</td>\n",
       "      <td>3.93</td>\n",
       "      <td>['Horror']</td>\n",
       "      <td>99.0</td>\n",
       "      <td>English</td>\n",
       "      <td>An American newcomer to a prestigious German b...</td>\n",
       "      <td>['Seda Spettacoli']</td>\n",
       "      <td>618171</td>\n",
       "      <td>220094</td>\n",
       "      <td>219548</td>\n",
       "      <td>13000</td>\n",
       "      <td>2814</td>\n",
       "      <td>53427</td>\n",
       "      <td>88628</td>\n",
       "      <td>443757</td>\n",
       "    </tr>\n",
       "    <tr>\n",
       "      <th>3</th>\n",
       "      <td>3</td>\n",
       "      <td>Lost in Translation</td>\n",
       "      <td>Sofia Coppola</td>\n",
       "      <td>3.79</td>\n",
       "      <td>['Drama', 'Comedy', 'Romance']</td>\n",
       "      <td>102.0</td>\n",
       "      <td>English</td>\n",
       "      <td>Two lost souls visiting Tokyo -- the young, ne...</td>\n",
       "      <td>['American Zoetrope', 'Elemental Films']</td>\n",
       "      <td>1596190</td>\n",
       "      <td>254180</td>\n",
       "      <td>493248</td>\n",
       "      <td>38000</td>\n",
       "      <td>15167</td>\n",
       "      <td>155110</td>\n",
       "      <td>193717</td>\n",
       "      <td>1076949</td>\n",
       "    </tr>\n",
       "    <tr>\n",
       "      <th>4</th>\n",
       "      <td>4</td>\n",
       "      <td>Akira</td>\n",
       "      <td>Katsuhiro Otomo</td>\n",
       "      <td>4.28</td>\n",
       "      <td>['Animation', 'Action', 'Science Fiction']</td>\n",
       "      <td>124.0</td>\n",
       "      <td>Japanese</td>\n",
       "      <td>A secret military project endangers Neo-Tokyo ...</td>\n",
       "      <td>['MBS', 'Sumitomo Corporation', 'TOHO', 'Studi...</td>\n",
       "      <td>873068</td>\n",
       "      <td>175586</td>\n",
       "      <td>341567</td>\n",
       "      <td>21000</td>\n",
       "      <td>1822</td>\n",
       "      <td>40850</td>\n",
       "      <td>196532</td>\n",
       "      <td>600721</td>\n",
       "    </tr>\n",
       "  </tbody>\n",
       "</table>\n",
       "</div>"
      ],
      "text/plain": [
       "   Unnamed: 0           Film_title         Director  Average_rating  \\\n",
       "0           0              The Fan  Eckhart Schmidt            3.57   \n",
       "1           1   Mad Max: Fury Road    George Miller            4.18   \n",
       "2           2             Suspiria    Dario Argento            3.93   \n",
       "3           3  Lost in Translation    Sofia Coppola            3.79   \n",
       "4           4                Akira  Katsuhiro Otomo            4.28   \n",
       "\n",
       "                                       Genres  Runtime Original_language  \\\n",
       "0                         ['Horror', 'Drama']     92.0            German   \n",
       "1  ['Adventure', 'Science Fiction', 'Action']    121.0           English   \n",
       "2                                  ['Horror']     99.0           English   \n",
       "3              ['Drama', 'Comedy', 'Romance']    102.0           English   \n",
       "4  ['Animation', 'Action', 'Science Fiction']    124.0          Japanese   \n",
       "\n",
       "                                         Description  \\\n",
       "0  The hero-worship that Simone has for a pop sin...   \n",
       "1  An apocalyptic story set in the furthest reach...   \n",
       "2  An American newcomer to a prestigious German b...   \n",
       "3  Two lost souls visiting Tokyo -- the young, ne...   \n",
       "4  A secret military project endangers Neo-Tokyo ...   \n",
       "\n",
       "                                             Studios  Watches  \\\n",
       "0                        ['Barbara Moorse Workshop']    12841   \n",
       "1  ['Warner Bros. Pictures', 'Village Roadshow Pi...  2488721   \n",
       "2                                ['Seda Spettacoli']   618171   \n",
       "3           ['American Zoetrope', 'Elemental Films']  1596190   \n",
       "4  ['MBS', 'Sumitomo Corporation', 'TOHO', 'Studi...   873068   \n",
       "\n",
       "   List_appearances   Likes   Fans  Lowest★  Medium★★★  Highest★★★★★  \\\n",
       "0             11032    3763     79      129       1660           714   \n",
       "1            331681  927538  38000    12530     158356        511140   \n",
       "2            220094  219548  13000     2814      53427         88628   \n",
       "3            254180  493248  38000    15167     155110        193717   \n",
       "4            175586  341567  21000     1822      40850        196532   \n",
       "\n",
       "   Total_ratings  \n",
       "0           9042  \n",
       "1        1682389  \n",
       "2         443757  \n",
       "3        1076949  \n",
       "4         600721  "
      ]
     },
     "execution_count": 4,
     "metadata": {},
     "output_type": "execute_result"
    }
   ],
   "source": [
    "df.head(5)"
   ]
  },
  {
   "cell_type": "code",
   "execution_count": 5,
   "id": "b79e69e4",
   "metadata": {},
   "outputs": [
    {
     "data": {
      "text/plain": [
       "Unnamed: 0           0\n",
       "Film_title           0\n",
       "Director             0\n",
       "Average_rating       0\n",
       "Genres               0\n",
       "Runtime              0\n",
       "Original_language    0\n",
       "Description          0\n",
       "Studios              0\n",
       "Watches              0\n",
       "List_appearances     0\n",
       "Likes                0\n",
       "Fans                 0\n",
       "Lowest★              0\n",
       "Medium★★★            0\n",
       "Highest★★★★★         0\n",
       "Total_ratings        0\n",
       "dtype: int64"
      ]
     },
     "execution_count": 5,
     "metadata": {},
     "output_type": "execute_result"
    }
   ],
   "source": [
    "df.isnull().sum()"
   ]
  },
  {
   "cell_type": "code",
   "execution_count": 6,
   "id": "25f4c21a",
   "metadata": {},
   "outputs": [
    {
     "name": "stdout",
     "output_type": "stream",
     "text": [
      "<class 'pandas.core.frame.DataFrame'>\n",
      "RangeIndex: 10000 entries, 0 to 9999\n",
      "Data columns (total 17 columns):\n",
      " #   Column             Non-Null Count  Dtype  \n",
      "---  ------             --------------  -----  \n",
      " 0   Unnamed: 0         10000 non-null  int64  \n",
      " 1   Film_title         10000 non-null  object \n",
      " 2   Director           10000 non-null  object \n",
      " 3   Average_rating     10000 non-null  float64\n",
      " 4   Genres             10000 non-null  object \n",
      " 5   Runtime            10000 non-null  float64\n",
      " 6   Original_language  10000 non-null  object \n",
      " 7   Description        10000 non-null  object \n",
      " 8   Studios            10000 non-null  object \n",
      " 9   Watches            10000 non-null  int64  \n",
      " 10  List_appearances   10000 non-null  int64  \n",
      " 11  Likes              10000 non-null  int64  \n",
      " 12  Fans               10000 non-null  int64  \n",
      " 13  Lowest★            10000 non-null  int64  \n",
      " 14  Medium★★★          10000 non-null  int64  \n",
      " 15  Highest★★★★★       10000 non-null  int64  \n",
      " 16  Total_ratings      10000 non-null  int64  \n",
      "dtypes: float64(2), int64(9), object(6)\n",
      "memory usage: 1.3+ MB\n"
     ]
    }
   ],
   "source": [
    "df.info()"
   ]
  },
  {
   "cell_type": "code",
   "execution_count": 7,
   "id": "992569c9",
   "metadata": {},
   "outputs": [
    {
     "data": {
      "text/plain": [
       "Unnamed: 0           10000\n",
       "Film_title            9665\n",
       "Director              4762\n",
       "Average_rating         327\n",
       "Genres                2397\n",
       "Runtime                301\n",
       "Original_language       57\n",
       "Description           9963\n",
       "Studios               8016\n",
       "Watches               8794\n",
       "List_appearances      7887\n",
       "Likes                 6741\n",
       "Fans                   963\n",
       "Lowest★               3086\n",
       "Medium★★★             6370\n",
       "Highest★★★★★          4699\n",
       "Total_ratings         8338\n",
       "dtype: int64"
      ]
     },
     "execution_count": 7,
     "metadata": {},
     "output_type": "execute_result"
    }
   ],
   "source": [
    "df.nunique()"
   ]
  },
  {
   "cell_type": "code",
   "execution_count": 8,
   "id": "33befff8",
   "metadata": {},
   "outputs": [
    {
     "data": {
      "text/plain": [
       "np.int64(0)"
      ]
     },
     "execution_count": 8,
     "metadata": {},
     "output_type": "execute_result"
    }
   ],
   "source": [
    "df.duplicated().sum()"
   ]
  },
  {
   "cell_type": "code",
   "execution_count": 13,
   "id": "180620d0",
   "metadata": {},
   "outputs": [
    {
     "data": {
      "text/plain": [
       "Index(['Unnamed: 0', 'Film_title', 'Director', 'Average_rating', 'Genres',\n",
       "       'Runtime', 'Original_language', 'Description', 'Studios', 'Watches',\n",
       "       'List_appearances', 'Likes', 'Fans', 'Lowest★', 'Medium★★★',\n",
       "       'Highest★★★★★', 'Total_ratings'],\n",
       "      dtype='object')"
      ]
     },
     "execution_count": 13,
     "metadata": {},
     "output_type": "execute_result"
    }
   ],
   "source": [
    "df.columns"
   ]
  },
  {
   "cell_type": "code",
   "execution_count": 14,
   "id": "f5e337ce",
   "metadata": {},
   "outputs": [],
   "source": [
    "df.columns= ['Unnamed: 0', 'Film_title', 'Director', 'Average_rating', 'Genres',\n",
    "       'Runtime', 'Original_language', 'Description', 'Studios', 'Watches',\n",
    "       'List_appearances', 'Likes', 'Fans', 'Lowest', 'Medium',\n",
    "       'Highest', 'Total_ratings']"
   ]
  },
  {
   "cell_type": "code",
   "execution_count": 15,
   "id": "0b823ec6",
   "metadata": {},
   "outputs": [],
   "source": [
    "df.drop(['Unnamed: 0','Description'] , axis=1, inplace= True)"
   ]
  },
  {
   "cell_type": "code",
   "execution_count": 16,
   "metadata": {},
   "outputs": [
    {
     "data": {
      "text/html": [
       "<div>\n",
       "<style scoped>\n",
       "    .dataframe tbody tr th:only-of-type {\n",
       "        vertical-align: middle;\n",
       "    }\n",
       "\n",
       "    .dataframe tbody tr th {\n",
       "        vertical-align: top;\n",
       "    }\n",
       "\n",
       "    .dataframe thead th {\n",
       "        text-align: right;\n",
       "    }\n",
       "</style>\n",
       "<table border=\"1\" class=\"dataframe\">\n",
       "  <thead>\n",
       "    <tr style=\"text-align: right;\">\n",
       "      <th></th>\n",
       "      <th>Film_title</th>\n",
       "      <th>Director</th>\n",
       "      <th>Average_rating</th>\n",
       "      <th>Genres</th>\n",
       "      <th>Runtime</th>\n",
       "      <th>Original_language</th>\n",
       "      <th>Studios</th>\n",
       "      <th>Watches</th>\n",
       "      <th>List_appearances</th>\n",
       "      <th>Likes</th>\n",
       "      <th>Fans</th>\n",
       "      <th>Lowest</th>\n",
       "      <th>Medium</th>\n",
       "      <th>Highest</th>\n",
       "      <th>Total_ratings</th>\n",
       "    </tr>\n",
       "  </thead>\n",
       "  <tbody>\n",
       "    <tr>\n",
       "      <th>1710</th>\n",
       "      <td>Monster House</td>\n",
       "      <td>Gil Kenan</td>\n",
       "      <td>3.40</td>\n",
       "      <td>['Animation', 'Comedy', 'Fantasy', 'Family']</td>\n",
       "      <td>91.0</td>\n",
       "      <td>English</td>\n",
       "      <td>['ImageMovers', 'Amblin Entertainment']</td>\n",
       "      <td>957706</td>\n",
       "      <td>91348</td>\n",
       "      <td>177029</td>\n",
       "      <td>1800</td>\n",
       "      <td>7157</td>\n",
       "      <td>119120</td>\n",
       "      <td>58925</td>\n",
       "      <td>485724</td>\n",
       "    </tr>\n",
       "    <tr>\n",
       "      <th>7065</th>\n",
       "      <td>Robinson Crusoe on Mars</td>\n",
       "      <td>Byron Haskin</td>\n",
       "      <td>3.14</td>\n",
       "      <td>['Adventure', 'Science Fiction']</td>\n",
       "      <td>110.0</td>\n",
       "      <td>English</td>\n",
       "      <td>['Aubrey Schenck Productions', 'Paramount Pict...</td>\n",
       "      <td>6504</td>\n",
       "      <td>5478</td>\n",
       "      <td>1083</td>\n",
       "      <td>5</td>\n",
       "      <td>65</td>\n",
       "      <td>1256</td>\n",
       "      <td>85</td>\n",
       "      <td>4129</td>\n",
       "    </tr>\n",
       "  </tbody>\n",
       "</table>\n",
       "</div>"
      ],
      "text/plain": [
       "                   Film_title      Director  Average_rating  \\\n",
       "1710            Monster House     Gil Kenan            3.40   \n",
       "7065  Robinson Crusoe on Mars  Byron Haskin            3.14   \n",
       "\n",
       "                                            Genres  Runtime Original_language  \\\n",
       "1710  ['Animation', 'Comedy', 'Fantasy', 'Family']     91.0           English   \n",
       "7065              ['Adventure', 'Science Fiction']    110.0           English   \n",
       "\n",
       "                                                Studios  Watches  \\\n",
       "1710            ['ImageMovers', 'Amblin Entertainment']   957706   \n",
       "7065  ['Aubrey Schenck Productions', 'Paramount Pict...     6504   \n",
       "\n",
       "      List_appearances   Likes  Fans  Lowest  Medium  Highest  Total_ratings  \n",
       "1710             91348  177029  1800    7157  119120    58925         485724  \n",
       "7065              5478    1083     5      65    1256       85           4129  "
      ]
     },
     "execution_count": 16,
     "metadata": {},
     "output_type": "execute_result"
    }
   ],
   "source": [
    "df.sample(2)"
   ]
  },
  {
   "cell_type": "code",
   "execution_count": 17,
   "id": "ec225af2",
   "metadata": {},
   "outputs": [],
   "source": [
    "Top10_directors= df.groupby('Director')['Average_rating'].mean().sort_values(ascending = False).head(10).reset_index()"
   ]
  },
  {
   "cell_type": "code",
   "execution_count": 18,
   "id": "b800e776",
   "metadata": {},
   "outputs": [
    {
     "data": {
      "application/vnd.plotly.v1+json": {
       "config": {
        "plotlyServerURL": "https://plot.ly"
       },
       "data": [
        {
         "hovertemplate": "Director=%{x}<br>Average_rating=%{marker.color}<extra></extra>",
         "legendgroup": "",
         "marker": {
          "color": {
           "bdata": "16NwPQrXEkCF61G4HoUSQHsUrkfhehJAKVyPwvUoEkAUrkfhehQSQAvXo3A9ChJACtejcD0KEkAK16NwPQoSQOxRuB6F6xFA4XoUrkfhEUA=",
           "dtype": "f8"
          },
          "coloraxis": "coloraxis",
          "pattern": {
           "shape": ""
          }
         },
         "name": "",
         "orientation": "v",
         "showlegend": false,
         "text": {
          "bdata": "16NwPQrXEkCF61G4HoUSQHsUrkfhehJAKVyPwvUoEkAUrkfhehQSQAvXo3A9ChJACtejcD0KEkAK16NwPQoSQOxRuB6F6xFA4XoUrkfhEUA=",
          "dtype": "f8"
         },
         "textposition": "outside",
         "texttemplate": "%{text:.2f}",
         "type": "bar",
         "x": [
          "David Barnard",
          "Elizabeth White, Justin Anderson",
          "Nate Cash",
          "Edward Yang",
          "Jennie Livingston",
          "Alastair Fothergill",
          "Mathieu Kassovitz",
          "Claude Lanzmann",
          "Taylor Swift",
          "Hideaki Anno, Kazuya Tsurumaki"
         ],
         "xaxis": "x",
         "y": {
          "bdata": "16NwPQrXEkCF61G4HoUSQHsUrkfhehJAKVyPwvUoEkAUrkfhehQSQAvXo3A9ChJACtejcD0KEkAK16NwPQoSQOxRuB6F6xFA4XoUrkfhEUA=",
          "dtype": "f8"
         },
         "yaxis": "y"
        }
       ],
       "layout": {
        "barmode": "relative",
        "coloraxis": {
         "colorbar": {
          "title": {
           "text": "Average_rating"
          }
         },
         "colorscale": [
          [
           0,
           "rgb(247,251,255)"
          ],
          [
           0.125,
           "rgb(222,235,247)"
          ],
          [
           0.25,
           "rgb(198,219,239)"
          ],
          [
           0.375,
           "rgb(158,202,225)"
          ],
          [
           0.5,
           "rgb(107,174,214)"
          ],
          [
           0.625,
           "rgb(66,146,198)"
          ],
          [
           0.75,
           "rgb(33,113,181)"
          ],
          [
           0.875,
           "rgb(8,81,156)"
          ],
          [
           1,
           "rgb(8,48,107)"
          ]
         ]
        },
        "height": 500,
        "legend": {
         "tracegroupgap": 0
        },
        "template": {
         "data": {
          "bar": [
           {
            "error_x": {
             "color": "#2a3f5f"
            },
            "error_y": {
             "color": "#2a3f5f"
            },
            "marker": {
             "line": {
              "color": "#E5ECF6",
              "width": 0.5
             },
             "pattern": {
              "fillmode": "overlay",
              "size": 10,
              "solidity": 0.2
             }
            },
            "type": "bar"
           }
          ],
          "barpolar": [
           {
            "marker": {
             "line": {
              "color": "#E5ECF6",
              "width": 0.5
             },
             "pattern": {
              "fillmode": "overlay",
              "size": 10,
              "solidity": 0.2
             }
            },
            "type": "barpolar"
           }
          ],
          "carpet": [
           {
            "aaxis": {
             "endlinecolor": "#2a3f5f",
             "gridcolor": "white",
             "linecolor": "white",
             "minorgridcolor": "white",
             "startlinecolor": "#2a3f5f"
            },
            "baxis": {
             "endlinecolor": "#2a3f5f",
             "gridcolor": "white",
             "linecolor": "white",
             "minorgridcolor": "white",
             "startlinecolor": "#2a3f5f"
            },
            "type": "carpet"
           }
          ],
          "choropleth": [
           {
            "colorbar": {
             "outlinewidth": 0,
             "ticks": ""
            },
            "type": "choropleth"
           }
          ],
          "contour": [
           {
            "colorbar": {
             "outlinewidth": 0,
             "ticks": ""
            },
            "colorscale": [
             [
              0,
              "#0d0887"
             ],
             [
              0.1111111111111111,
              "#46039f"
             ],
             [
              0.2222222222222222,
              "#7201a8"
             ],
             [
              0.3333333333333333,
              "#9c179e"
             ],
             [
              0.4444444444444444,
              "#bd3786"
             ],
             [
              0.5555555555555556,
              "#d8576b"
             ],
             [
              0.6666666666666666,
              "#ed7953"
             ],
             [
              0.7777777777777778,
              "#fb9f3a"
             ],
             [
              0.8888888888888888,
              "#fdca26"
             ],
             [
              1,
              "#f0f921"
             ]
            ],
            "type": "contour"
           }
          ],
          "contourcarpet": [
           {
            "colorbar": {
             "outlinewidth": 0,
             "ticks": ""
            },
            "type": "contourcarpet"
           }
          ],
          "heatmap": [
           {
            "colorbar": {
             "outlinewidth": 0,
             "ticks": ""
            },
            "colorscale": [
             [
              0,
              "#0d0887"
             ],
             [
              0.1111111111111111,
              "#46039f"
             ],
             [
              0.2222222222222222,
              "#7201a8"
             ],
             [
              0.3333333333333333,
              "#9c179e"
             ],
             [
              0.4444444444444444,
              "#bd3786"
             ],
             [
              0.5555555555555556,
              "#d8576b"
             ],
             [
              0.6666666666666666,
              "#ed7953"
             ],
             [
              0.7777777777777778,
              "#fb9f3a"
             ],
             [
              0.8888888888888888,
              "#fdca26"
             ],
             [
              1,
              "#f0f921"
             ]
            ],
            "type": "heatmap"
           }
          ],
          "histogram": [
           {
            "marker": {
             "pattern": {
              "fillmode": "overlay",
              "size": 10,
              "solidity": 0.2
             }
            },
            "type": "histogram"
           }
          ],
          "histogram2d": [
           {
            "colorbar": {
             "outlinewidth": 0,
             "ticks": ""
            },
            "colorscale": [
             [
              0,
              "#0d0887"
             ],
             [
              0.1111111111111111,
              "#46039f"
             ],
             [
              0.2222222222222222,
              "#7201a8"
             ],
             [
              0.3333333333333333,
              "#9c179e"
             ],
             [
              0.4444444444444444,
              "#bd3786"
             ],
             [
              0.5555555555555556,
              "#d8576b"
             ],
             [
              0.6666666666666666,
              "#ed7953"
             ],
             [
              0.7777777777777778,
              "#fb9f3a"
             ],
             [
              0.8888888888888888,
              "#fdca26"
             ],
             [
              1,
              "#f0f921"
             ]
            ],
            "type": "histogram2d"
           }
          ],
          "histogram2dcontour": [
           {
            "colorbar": {
             "outlinewidth": 0,
             "ticks": ""
            },
            "colorscale": [
             [
              0,
              "#0d0887"
             ],
             [
              0.1111111111111111,
              "#46039f"
             ],
             [
              0.2222222222222222,
              "#7201a8"
             ],
             [
              0.3333333333333333,
              "#9c179e"
             ],
             [
              0.4444444444444444,
              "#bd3786"
             ],
             [
              0.5555555555555556,
              "#d8576b"
             ],
             [
              0.6666666666666666,
              "#ed7953"
             ],
             [
              0.7777777777777778,
              "#fb9f3a"
             ],
             [
              0.8888888888888888,
              "#fdca26"
             ],
             [
              1,
              "#f0f921"
             ]
            ],
            "type": "histogram2dcontour"
           }
          ],
          "mesh3d": [
           {
            "colorbar": {
             "outlinewidth": 0,
             "ticks": ""
            },
            "type": "mesh3d"
           }
          ],
          "parcoords": [
           {
            "line": {
             "colorbar": {
              "outlinewidth": 0,
              "ticks": ""
             }
            },
            "type": "parcoords"
           }
          ],
          "pie": [
           {
            "automargin": true,
            "type": "pie"
           }
          ],
          "scatter": [
           {
            "fillpattern": {
             "fillmode": "overlay",
             "size": 10,
             "solidity": 0.2
            },
            "type": "scatter"
           }
          ],
          "scatter3d": [
           {
            "line": {
             "colorbar": {
              "outlinewidth": 0,
              "ticks": ""
             }
            },
            "marker": {
             "colorbar": {
              "outlinewidth": 0,
              "ticks": ""
             }
            },
            "type": "scatter3d"
           }
          ],
          "scattercarpet": [
           {
            "marker": {
             "colorbar": {
              "outlinewidth": 0,
              "ticks": ""
             }
            },
            "type": "scattercarpet"
           }
          ],
          "scattergeo": [
           {
            "marker": {
             "colorbar": {
              "outlinewidth": 0,
              "ticks": ""
             }
            },
            "type": "scattergeo"
           }
          ],
          "scattergl": [
           {
            "marker": {
             "colorbar": {
              "outlinewidth": 0,
              "ticks": ""
             }
            },
            "type": "scattergl"
           }
          ],
          "scattermap": [
           {
            "marker": {
             "colorbar": {
              "outlinewidth": 0,
              "ticks": ""
             }
            },
            "type": "scattermap"
           }
          ],
          "scattermapbox": [
           {
            "marker": {
             "colorbar": {
              "outlinewidth": 0,
              "ticks": ""
             }
            },
            "type": "scattermapbox"
           }
          ],
          "scatterpolar": [
           {
            "marker": {
             "colorbar": {
              "outlinewidth": 0,
              "ticks": ""
             }
            },
            "type": "scatterpolar"
           }
          ],
          "scatterpolargl": [
           {
            "marker": {
             "colorbar": {
              "outlinewidth": 0,
              "ticks": ""
             }
            },
            "type": "scatterpolargl"
           }
          ],
          "scatterternary": [
           {
            "marker": {
             "colorbar": {
              "outlinewidth": 0,
              "ticks": ""
             }
            },
            "type": "scatterternary"
           }
          ],
          "surface": [
           {
            "colorbar": {
             "outlinewidth": 0,
             "ticks": ""
            },
            "colorscale": [
             [
              0,
              "#0d0887"
             ],
             [
              0.1111111111111111,
              "#46039f"
             ],
             [
              0.2222222222222222,
              "#7201a8"
             ],
             [
              0.3333333333333333,
              "#9c179e"
             ],
             [
              0.4444444444444444,
              "#bd3786"
             ],
             [
              0.5555555555555556,
              "#d8576b"
             ],
             [
              0.6666666666666666,
              "#ed7953"
             ],
             [
              0.7777777777777778,
              "#fb9f3a"
             ],
             [
              0.8888888888888888,
              "#fdca26"
             ],
             [
              1,
              "#f0f921"
             ]
            ],
            "type": "surface"
           }
          ],
          "table": [
           {
            "cells": {
             "fill": {
              "color": "#EBF0F8"
             },
             "line": {
              "color": "white"
             }
            },
            "header": {
             "fill": {
              "color": "#C8D4E3"
             },
             "line": {
              "color": "white"
             }
            },
            "type": "table"
           }
          ]
         },
         "layout": {
          "annotationdefaults": {
           "arrowcolor": "#2a3f5f",
           "arrowhead": 0,
           "arrowwidth": 1
          },
          "autotypenumbers": "strict",
          "coloraxis": {
           "colorbar": {
            "outlinewidth": 0,
            "ticks": ""
           }
          },
          "colorscale": {
           "diverging": [
            [
             0,
             "#8e0152"
            ],
            [
             0.1,
             "#c51b7d"
            ],
            [
             0.2,
             "#de77ae"
            ],
            [
             0.3,
             "#f1b6da"
            ],
            [
             0.4,
             "#fde0ef"
            ],
            [
             0.5,
             "#f7f7f7"
            ],
            [
             0.6,
             "#e6f5d0"
            ],
            [
             0.7,
             "#b8e186"
            ],
            [
             0.8,
             "#7fbc41"
            ],
            [
             0.9,
             "#4d9221"
            ],
            [
             1,
             "#276419"
            ]
           ],
           "sequential": [
            [
             0,
             "#0d0887"
            ],
            [
             0.1111111111111111,
             "#46039f"
            ],
            [
             0.2222222222222222,
             "#7201a8"
            ],
            [
             0.3333333333333333,
             "#9c179e"
            ],
            [
             0.4444444444444444,
             "#bd3786"
            ],
            [
             0.5555555555555556,
             "#d8576b"
            ],
            [
             0.6666666666666666,
             "#ed7953"
            ],
            [
             0.7777777777777778,
             "#fb9f3a"
            ],
            [
             0.8888888888888888,
             "#fdca26"
            ],
            [
             1,
             "#f0f921"
            ]
           ],
           "sequentialminus": [
            [
             0,
             "#0d0887"
            ],
            [
             0.1111111111111111,
             "#46039f"
            ],
            [
             0.2222222222222222,
             "#7201a8"
            ],
            [
             0.3333333333333333,
             "#9c179e"
            ],
            [
             0.4444444444444444,
             "#bd3786"
            ],
            [
             0.5555555555555556,
             "#d8576b"
            ],
            [
             0.6666666666666666,
             "#ed7953"
            ],
            [
             0.7777777777777778,
             "#fb9f3a"
            ],
            [
             0.8888888888888888,
             "#fdca26"
            ],
            [
             1,
             "#f0f921"
            ]
           ]
          },
          "colorway": [
           "#636efa",
           "#EF553B",
           "#00cc96",
           "#ab63fa",
           "#FFA15A",
           "#19d3f3",
           "#FF6692",
           "#B6E880",
           "#FF97FF",
           "#FECB52"
          ],
          "font": {
           "color": "#2a3f5f"
          },
          "geo": {
           "bgcolor": "white",
           "lakecolor": "white",
           "landcolor": "#E5ECF6",
           "showlakes": true,
           "showland": true,
           "subunitcolor": "white"
          },
          "hoverlabel": {
           "align": "left"
          },
          "hovermode": "closest",
          "mapbox": {
           "style": "light"
          },
          "paper_bgcolor": "white",
          "plot_bgcolor": "#E5ECF6",
          "polar": {
           "angularaxis": {
            "gridcolor": "white",
            "linecolor": "white",
            "ticks": ""
           },
           "bgcolor": "#E5ECF6",
           "radialaxis": {
            "gridcolor": "white",
            "linecolor": "white",
            "ticks": ""
           }
          },
          "scene": {
           "xaxis": {
            "backgroundcolor": "#E5ECF6",
            "gridcolor": "white",
            "gridwidth": 2,
            "linecolor": "white",
            "showbackground": true,
            "ticks": "",
            "zerolinecolor": "white"
           },
           "yaxis": {
            "backgroundcolor": "#E5ECF6",
            "gridcolor": "white",
            "gridwidth": 2,
            "linecolor": "white",
            "showbackground": true,
            "ticks": "",
            "zerolinecolor": "white"
           },
           "zaxis": {
            "backgroundcolor": "#E5ECF6",
            "gridcolor": "white",
            "gridwidth": 2,
            "linecolor": "white",
            "showbackground": true,
            "ticks": "",
            "zerolinecolor": "white"
           }
          },
          "shapedefaults": {
           "line": {
            "color": "#2a3f5f"
           }
          },
          "ternary": {
           "aaxis": {
            "gridcolor": "white",
            "linecolor": "white",
            "ticks": ""
           },
           "baxis": {
            "gridcolor": "white",
            "linecolor": "white",
            "ticks": ""
           },
           "bgcolor": "#E5ECF6",
           "caxis": {
            "gridcolor": "white",
            "linecolor": "white",
            "ticks": ""
           }
          },
          "title": {
           "x": 0.05
          },
          "xaxis": {
           "automargin": true,
           "gridcolor": "white",
           "linecolor": "white",
           "ticks": "",
           "title": {
            "standoff": 15
           },
           "zerolinecolor": "white",
           "zerolinewidth": 2
          },
          "yaxis": {
           "automargin": true,
           "gridcolor": "white",
           "linecolor": "white",
           "ticks": "",
           "title": {
            "standoff": 15
           },
           "zerolinecolor": "white",
           "zerolinewidth": 2
          }
         }
        },
        "title": {
         "text": "Top 10 director by average rating"
        },
        "width": 900,
        "xaxis": {
         "anchor": "y",
         "domain": [
          0,
          1
         ],
         "tickangle": 45,
         "title": {
          "text": "Director"
         }
        },
        "yaxis": {
         "anchor": "x",
         "domain": [
          0,
          1
         ],
         "title": {
          "text": "Average_rating"
         }
        }
       }
      }
     },
     "metadata": {},
     "output_type": "display_data"
    }
   ],
   "source": [
    "## Top 10 Directors by Average Rating\t\n",
    "fig= px.bar(\n",
    "    Top10_directors, x= 'Director', y= 'Average_rating', \n",
    "    title = 'Top 10 director by average rating', \n",
    "    color='Average_rating', text= 'Average_rating', color_continuous_scale='Blues')\n",
    "fig.update_traces(texttemplate='%{text:.2f}', textposition='outside')\n",
    "fig.update_layout(xaxis_tickangle=45, width=900, height=500)\n",
    "fig"
   ]
  },
  {
   "cell_type": "code",
   "execution_count": 19,
   "id": "0425b4e8",
   "metadata": {},
   "outputs": [],
   "source": [
    "## Number of films directed by each director\n",
    "director_count = df['Director'].value_counts().head(10)"
   ]
  },
  {
   "cell_type": "code",
   "execution_count": 20,
   "id": "abd31f60",
   "metadata": {},
   "outputs": [
    {
     "data": {
      "text/plain": [
       "<function matplotlib.pyplot.show(close=None, block=None)>"
      ]
     },
     "execution_count": 20,
     "metadata": {},
     "output_type": "execute_result"
    },
    {
     "data": {
      "image/png": "[encoded data removed]",
      "text/plain": [
       "<Figure size 1000x500 with 1 Axes>"
      ]
     },
     "metadata": {},
     "output_type": "display_data"
    }
   ],
   "source": [
    "plt.figure(figsize=(10,5))\n",
    "plt.bar(director_count.index, director_count.values, color= 'skyblue')\n",
    "plt.title('Top 10 Most Frequent Directors')\n",
    "plt.xlabel('Director Name')\n",
    "plt.ylabel('Number of movies')\n",
    "plt.xticks(rotation= 45)\n",
    "plt.tight_layout\n",
    "plt.show"
   ]
  },
  {
   "cell_type": "code",
   "execution_count": 21,
   "id": "2640e7de",
   "metadata": {},
   "outputs": [],
   "source": [
    "## Top 10 Films by Average Rating\t\n",
    "Top10_directors= df.groupby('Film_title')['Average_rating'].max().sort_values(ascending = False).head(10).reset_index()"
   ]
  },
  {
   "cell_type": "code",
   "execution_count": 22,
   "id": "73d7c178",
   "metadata": {},
   "outputs": [
    {
     "data": {
      "application/vnd.plotly.v1+json": {
       "config": {
        "plotlyServerURL": "https://plot.ly"
       },
       "data": [
        {
         "hovertemplate": "Film_title=%{x}<br>Average_rating=%{marker.color}<extra></extra>",
         "legendgroup": "",
         "marker": {
          "color": {
           "bdata": "16NwPQrXEkDD9Shcj8ISQLgehetRuBJAhetRuB6FEkCF61G4HoUSQIXrUbgehRJAhetRuB6FEkB7FK5H4XoSQHE9CtejcBJAcT0K16NwEkA=",
           "dtype": "f8"
          },
          "coloraxis": "coloraxis",
          "pattern": {
           "shape": ""
          }
         },
         "name": "",
         "orientation": "v",
         "showlegend": false,
         "text": {
          "bdata": "16NwPQrXEkDD9Shcj8ISQLgehetRuBJAhetRuB6FEkCF61G4HoUSQIXrUbgehRJAhetRuB6FEkB7FK5H4XoSQHE9CtejcBJAcT0K16NwEkA=",
          "dtype": "f8"
         },
         "textposition": "outside",
         "texttemplate": "%{text:.2f}",
         "type": "bar",
         "x": [
          "Radiohead: In Rainbows - From the Basement",
          "Harakiri",
          "Stop Making Sense",
          "Twin Peaks",
          "Planet Earth II",
          "12 Angry Men",
          "Come and See",
          "Over the Garden Wall",
          "Planet Earth",
          "Seven Samurai"
         ],
         "xaxis": "x",
         "y": {
          "bdata": "16NwPQrXEkDD9Shcj8ISQLgehetRuBJAhetRuB6FEkCF61G4HoUSQIXrUbgehRJAhetRuB6FEkB7FK5H4XoSQHE9CtejcBJAcT0K16NwEkA=",
          "dtype": "f8"
         },
         "yaxis": "y"
        }
       ],
       "layout": {
        "barmode": "relative",
        "coloraxis": {
         "colorbar": {
          "title": {
           "text": "Average_rating"
          }
         },
         "colorscale": [
          [
           0,
           "#00224e"
          ],
          [
           0.1111111111111111,
           "#123570"
          ],
          [
           0.2222222222222222,
           "#3b496c"
          ],
          [
           0.3333333333333333,
           "#575d6d"
          ],
          [
           0.4444444444444444,
           "#707173"
          ],
          [
           0.5555555555555556,
           "#8a8678"
          ],
          [
           0.6666666666666666,
           "#a59c74"
          ],
          [
           0.7777777777777778,
           "#c3b369"
          ],
          [
           0.8888888888888888,
           "#e1cc55"
          ],
          [
           1,
           "#fee838"
          ]
         ]
        },
        "height": 650,
        "legend": {
         "tracegroupgap": 0
        },
        "template": {
         "data": {
          "bar": [
           {
            "error_x": {
             "color": "#2a3f5f"
            },
            "error_y": {
             "color": "#2a3f5f"
            },
            "marker": {
             "line": {
              "color": "#E5ECF6",
              "width": 0.5
             },
             "pattern": {
              "fillmode": "overlay",
              "size": 10,
              "solidity": 0.2
             }
            },
            "type": "bar"
           }
          ],
          "barpolar": [
           {
            "marker": {
             "line": {
              "color": "#E5ECF6",
              "width": 0.5
             },
             "pattern": {
              "fillmode": "overlay",
              "size": 10,
              "solidity": 0.2
             }
            },
            "type": "barpolar"
           }
          ],
          "carpet": [
           {
            "aaxis": {
             "endlinecolor": "#2a3f5f",
             "gridcolor": "white",
             "linecolor": "white",
             "minorgridcolor": "white",
             "startlinecolor": "#2a3f5f"
            },
            "baxis": {
             "endlinecolor": "#2a3f5f",
             "gridcolor": "white",
             "linecolor": "white",
             "minorgridcolor": "white",
             "startlinecolor": "#2a3f5f"
            },
            "type": "carpet"
           }
          ],
          "choropleth": [
           {
            "colorbar": {
             "outlinewidth": 0,
             "ticks": ""
            },
            "type": "choropleth"
           }
          ],
          "contour": [
           {
            "colorbar": {
             "outlinewidth": 0,
             "ticks": ""
            },
            "colorscale": [
             [
              0,
              "#0d0887"
             ],
             [
              0.1111111111111111,
              "#46039f"
             ],
             [
              0.2222222222222222,
              "#7201a8"
             ],
             [
              0.3333333333333333,
              "#9c179e"
             ],
             [
              0.4444444444444444,
              "#bd3786"
             ],
             [
              0.5555555555555556,
              "#d8576b"
             ],
             [
              0.6666666666666666,
              "#ed7953"
             ],
             [
              0.7777777777777778,
              "#fb9f3a"
             ],
             [
              0.8888888888888888,
              "#fdca26"
             ],
             [
              1,
              "#f0f921"
             ]
            ],
            "type": "contour"
           }
          ],
          "contourcarpet": [
           {
            "colorbar": {
             "outlinewidth": 0,
             "ticks": ""
            },
            "type": "contourcarpet"
           }
          ],
          "heatmap": [
           {
            "colorbar": {
             "outlinewidth": 0,
             "ticks": ""
            },
            "colorscale": [
             [
              0,
              "#0d0887"
             ],
             [
              0.1111111111111111,
              "#46039f"
             ],
             [
              0.2222222222222222,
              "#7201a8"
             ],
             [
              0.3333333333333333,
              "#9c179e"
             ],
             [
              0.4444444444444444,
              "#bd3786"
             ],
             [
              0.5555555555555556,
              "#d8576b"
             ],
             [
              0.6666666666666666,
              "#ed7953"
             ],
             [
              0.7777777777777778,
              "#fb9f3a"
             ],
             [
              0.8888888888888888,
              "#fdca26"
             ],
             [
              1,
              "#f0f921"
             ]
            ],
            "type": "heatmap"
           }
          ],
          "histogram": [
           {
            "marker": {
             "pattern": {
              "fillmode": "overlay",
              "size": 10,
              "solidity": 0.2
             }
            },
            "type": "histogram"
           }
          ],
          "histogram2d": [
           {
            "colorbar": {
             "outlinewidth": 0,
             "ticks": ""
            },
            "colorscale": [
             [
              0,
              "#0d0887"
             ],
             [
              0.1111111111111111,
              "#46039f"
             ],
             [
              0.2222222222222222,
              "#7201a8"
             ],
             [
              0.3333333333333333,
              "#9c179e"
             ],
             [
              0.4444444444444444,
              "#bd3786"
             ],
             [
              0.5555555555555556,
              "#d8576b"
             ],
             [
              0.6666666666666666,
              "#ed7953"
             ],
             [
              0.7777777777777778,
              "#fb9f3a"
             ],
             [
              0.8888888888888888,
              "#fdca26"
             ],
             [
              1,
              "#f0f921"
             ]
            ],
            "type": "histogram2d"
           }
          ],
          "histogram2dcontour": [
           {
            "colorbar": {
             "outlinewidth": 0,
             "ticks": ""
            },
            "colorscale": [
             [
              0,
              "#0d0887"
             ],
             [
              0.1111111111111111,
              "#46039f"
             ],
             [
              0.2222222222222222,
              "#7201a8"
             ],
             [
              0.3333333333333333,
              "#9c179e"
             ],
             [
              0.4444444444444444,
              "#bd3786"
             ],
             [
              0.5555555555555556,
              "#d8576b"
             ],
             [
              0.6666666666666666,
              "#ed7953"
             ],
             [
              0.7777777777777778,
              "#fb9f3a"
             ],
             [
              0.8888888888888888,
              "#fdca26"
             ],
             [
              1,
              "#f0f921"
             ]
            ],
            "type": "histogram2dcontour"
           }
          ],
          "mesh3d": [
           {
            "colorbar": {
             "outlinewidth": 0,
             "ticks": ""
            },
            "type": "mesh3d"
           }
          ],
          "parcoords": [
           {
            "line": {
             "colorbar": {
              "outlinewidth": 0,
              "ticks": ""
             }
            },
            "type": "parcoords"
           }
          ],
          "pie": [
           {
            "automargin": true,
            "type": "pie"
           }
          ],
          "scatter": [
           {
            "fillpattern": {
             "fillmode": "overlay",
             "size": 10,
             "solidity": 0.2
            },
            "type": "scatter"
           }
          ],
          "scatter3d": [
           {
            "line": {
             "colorbar": {
              "outlinewidth": 0,
              "ticks": ""
             }
            },
            "marker": {
             "colorbar": {
              "outlinewidth": 0,
              "ticks": ""
             }
            },
            "type": "scatter3d"
           }
          ],
          "scattercarpet": [
           {
            "marker": {
             "colorbar": {
              "outlinewidth": 0,
              "ticks": ""
             }
            },
            "type": "scattercarpet"
           }
          ],
          "scattergeo": [
           {
            "marker": {
             "colorbar": {
              "outlinewidth": 0,
              "ticks": ""
             }
            },
            "type": "scattergeo"
           }
          ],
          "scattergl": [
           {
            "marker": {
             "colorbar": {
              "outlinewidth": 0,
              "ticks": ""
             }
            },
            "type": "scattergl"
           }
          ],
          "scattermap": [
           {
            "marker": {
             "colorbar": {
              "outlinewidth": 0,
              "ticks": ""
             }
            },
            "type": "scattermap"
           }
          ],
          "scattermapbox": [
           {
            "marker": {
             "colorbar": {
              "outlinewidth": 0,
              "ticks": ""
             }
            },
            "type": "scattermapbox"
           }
          ],
          "scatterpolar": [
           {
            "marker": {
             "colorbar": {
              "outlinewidth": 0,
              "ticks": ""
             }
            },
            "type": "scatterpolar"
           }
          ],
          "scatterpolargl": [
           {
            "marker": {
             "colorbar": {
              "outlinewidth": 0,
              "ticks": ""
             }
            },
            "type": "scatterpolargl"
           }
          ],
          "scatterternary": [
           {
            "marker": {
             "colorbar": {
              "outlinewidth": 0,
              "ticks": ""
             }
            },
            "type": "scatterternary"
           }
          ],
          "surface": [
           {
            "colorbar": {
             "outlinewidth": 0,
             "ticks": ""
            },
            "colorscale": [
             [
              0,
              "#0d0887"
             ],
             [
              0.1111111111111111,
              "#46039f"
             ],
             [
              0.2222222222222222,
              "#7201a8"
             ],
             [
              0.3333333333333333,
              "#9c179e"
             ],
             [
              0.4444444444444444,
              "#bd3786"
             ],
             [
              0.5555555555555556,
              "#d8576b"
             ],
             [
              0.6666666666666666,
              "#ed7953"
             ],
             [
              0.7777777777777778,
              "#fb9f3a"
             ],
             [
              0.8888888888888888,
              "#fdca26"
             ],
             [
              1,
              "#f0f921"
             ]
            ],
            "type": "surface"
           }
          ],
          "table": [
           {
            "cells": {
             "fill": {
              "color": "#EBF0F8"
             },
             "line": {
              "color": "white"
             }
            },
            "header": {
             "fill": {
              "color": "#C8D4E3"
             },
             "line": {
              "color": "white"
             }
            },
            "type": "table"
           }
          ]
         },
         "layout": {
          "annotationdefaults": {
           "arrowcolor": "#2a3f5f",
           "arrowhead": 0,
           "arrowwidth": 1
          },
          "autotypenumbers": "strict",
          "coloraxis": {
           "colorbar": {
            "outlinewidth": 0,
            "ticks": ""
           }
          },
          "colorscale": {
           "diverging": [
            [
             0,
             "#8e0152"
            ],
            [
             0.1,
             "#c51b7d"
            ],
            [
             0.2,
             "#de77ae"
            ],
            [
             0.3,
             "#f1b6da"
            ],
            [
             0.4,
             "#fde0ef"
            ],
            [
             0.5,
             "#f7f7f7"
            ],
            [
             0.6,
             "#e6f5d0"
            ],
            [
             0.7,
             "#b8e186"
            ],
            [
             0.8,
             "#7fbc41"
            ],
            [
             0.9,
             "#4d9221"
            ],
            [
             1,
             "#276419"
            ]
           ],
           "sequential": [
            [
             0,
             "#0d0887"
            ],
            [
             0.1111111111111111,
             "#46039f"
            ],
            [
             0.2222222222222222,
             "#7201a8"
            ],
            [
             0.3333333333333333,
             "#9c179e"
            ],
            [
             0.4444444444444444,
             "#bd3786"
            ],
            [
             0.5555555555555556,
             "#d8576b"
            ],
            [
             0.6666666666666666,
             "#ed7953"
            ],
            [
             0.7777777777777778,
             "#fb9f3a"
            ],
            [
             0.8888888888888888,
             "#fdca26"
            ],
            [
             1,
             "#f0f921"
            ]
           ],
           "sequentialminus": [
            [
             0,
             "#0d0887"
            ],
            [
             0.1111111111111111,
             "#46039f"
            ],
            [
             0.2222222222222222,
             "#7201a8"
            ],
            [
             0.3333333333333333,
             "#9c179e"
            ],
            [
             0.4444444444444444,
             "#bd3786"
            ],
            [
             0.5555555555555556,
             "#d8576b"
            ],
            [
             0.6666666666666666,
             "#ed7953"
            ],
            [
             0.7777777777777778,
             "#fb9f3a"
            ],
            [
             0.8888888888888888,
             "#fdca26"
            ],
            [
             1,
             "#f0f921"
            ]
           ]
          },
          "colorway": [
           "#636efa",
           "#EF553B",
           "#00cc96",
           "#ab63fa",
           "#FFA15A",
           "#19d3f3",
           "#FF6692",
           "#B6E880",
           "#FF97FF",
           "#FECB52"
          ],
          "font": {
           "color": "#2a3f5f"
          },
          "geo": {
           "bgcolor": "white",
           "lakecolor": "white",
           "landcolor": "#E5ECF6",
           "showlakes": true,
           "showland": true,
           "subunitcolor": "white"
          },
          "hoverlabel": {
           "align": "left"
          },
          "hovermode": "closest",
          "mapbox": {
           "style": "light"
          },
          "paper_bgcolor": "white",
          "plot_bgcolor": "#E5ECF6",
          "polar": {
           "angularaxis": {
            "gridcolor": "white",
            "linecolor": "white",
            "ticks": ""
           },
           "bgcolor": "#E5ECF6",
           "radialaxis": {
            "gridcolor": "white",
            "linecolor": "white",
            "ticks": ""
           }
          },
          "scene": {
           "xaxis": {
            "backgroundcolor": "#E5ECF6",
            "gridcolor": "white",
            "gridwidth": 2,
            "linecolor": "white",
            "showbackground": true,
            "ticks": "",
            "zerolinecolor": "white"
           },
           "yaxis": {
            "backgroundcolor": "#E5ECF6",
            "gridcolor": "white",
            "gridwidth": 2,
            "linecolor": "white",
            "showbackground": true,
            "ticks": "",
            "zerolinecolor": "white"
           },
           "zaxis": {
            "backgroundcolor": "#E5ECF6",
            "gridcolor": "white",
            "gridwidth": 2,
            "linecolor": "white",
            "showbackground": true,
            "ticks": "",
            "zerolinecolor": "white"
           }
          },
          "shapedefaults": {
           "line": {
            "color": "#2a3f5f"
           }
          },
          "ternary": {
           "aaxis": {
            "gridcolor": "white",
            "linecolor": "white",
            "ticks": ""
           },
           "baxis": {
            "gridcolor": "white",
            "linecolor": "white",
            "ticks": ""
           },
           "bgcolor": "#E5ECF6",
           "caxis": {
            "gridcolor": "white",
            "linecolor": "white",
            "ticks": ""
           }
          },
          "title": {
           "x": 0.05
          },
          "xaxis": {
           "automargin": true,
           "gridcolor": "white",
           "linecolor": "white",
           "ticks": "",
           "title": {
            "standoff": 15
           },
           "zerolinecolor": "white",
           "zerolinewidth": 2
          },
          "yaxis": {
           "automargin": true,
           "gridcolor": "white",
           "linecolor": "white",
           "ticks": "",
           "title": {
            "standoff": 15
           },
           "zerolinecolor": "white",
           "zerolinewidth": 2
          }
         }
        },
        "title": {
         "text": "Top 10 films by average rating"
        },
        "width": 900,
        "xaxis": {
         "anchor": "y",
         "domain": [
          0,
          1
         ],
         "tickangle": 45,
         "title": {
          "text": "Film_title"
         }
        },
        "yaxis": {
         "anchor": "x",
         "domain": [
          0,
          1
         ],
         "title": {
          "text": "Average_rating"
         }
        }
       }
      }
     },
     "metadata": {},
     "output_type": "display_data"
    }
   ],
   "source": [
    "fig= px.bar(\n",
    "    Top10_directors, x= 'Film_title', y= 'Average_rating', \n",
    "    title = 'Top 10 films by average rating', \n",
    "    color='Average_rating', text= 'Average_rating', color_continuous_scale='Cividis')\n",
    "fig.update_traces(texttemplate='%{text:.2f}', textposition='outside')\n",
    "fig.update_layout(xaxis_tickangle=45, width=900, height=650)\n",
    "fig"
   ]
  },
  {
   "cell_type": "code",
   "execution_count": 23,
   "id": "4e634115",
   "metadata": {},
   "outputs": [
    {
     "data": {
      "application/vnd.plotly.v1+json": {
       "config": {
        "plotlyServerURL": "https://plot.ly"
       },
       "data": [
        {
         "bingroup": "x",
         "hovertemplate": "Average_rating=%{x}<br>count=%{y}<extra></extra>",
         "legendgroup": "",
         "marker": {
          "color": "#636efa",
          "pattern": {
           "shape": ""
          }
         },
         "name": "",
         "nbinsx": 30,
         "orientation": "v",
         "showlegend": false,
         "type": "histogram",
         "x": {
          "bdata": "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",
          "dtype": "f8"
         },
         "xaxis": "x",
         "yaxis": "y"
        }
       ],
       "layout": {
        "barmode": "relative",
        "legend": {
         "tracegroupgap": 0
        },
        "template": {
         "data": {
          "bar": [
           {
            "error_x": {
             "color": "#2a3f5f"
            },
            "error_y": {
             "color": "#2a3f5f"
            },
            "marker": {
             "line": {
              "color": "#E5ECF6",
              "width": 0.5
             },
             "pattern": {
              "fillmode": "overlay",
              "size": 10,
              "solidity": 0.2
             }
            },
            "type": "bar"
           }
          ],
          "barpolar": [
           {
            "marker": {
             "line": {
              "color": "#E5ECF6",
              "width": 0.5
             },
             "pattern": {
              "fillmode": "overlay",
              "size": 10,
              "solidity": 0.2
             }
            },
            "type": "barpolar"
           }
          ],
          "carpet": [
           {
            "aaxis": {
             "endlinecolor": "#2a3f5f",
             "gridcolor": "white",
             "linecolor": "white",
             "minorgridcolor": "white",
             "startlinecolor": "#2a3f5f"
            },
            "baxis": {
             "endlinecolor": "#2a3f5f",
             "gridcolor": "white",
             "linecolor": "white",
             "minorgridcolor": "white",
             "startlinecolor": "#2a3f5f"
            },
            "type": "carpet"
           }
          ],
          "choropleth": [
           {
            "colorbar": {
             "outlinewidth": 0,
             "ticks": ""
            },
            "type": "choropleth"
           }
          ],
          "contour": [
           {
            "colorbar": {
             "outlinewidth": 0,
             "ticks": ""
            },
            "colorscale": [
             [
              0,
              "#0d0887"
             ],
             [
              0.1111111111111111,
              "#46039f"
             ],
             [
              0.2222222222222222,
              "#7201a8"
             ],
             [
              0.3333333333333333,
              "#9c179e"
             ],
             [
              0.4444444444444444,
              "#bd3786"
             ],
             [
              0.5555555555555556,
              "#d8576b"
             ],
             [
              0.6666666666666666,
              "#ed7953"
             ],
             [
              0.7777777777777778,
              "#fb9f3a"
             ],
             [
              0.8888888888888888,
              "#fdca26"
             ],
             [
              1,
              "#f0f921"
             ]
            ],
            "type": "contour"
           }
          ],
          "contourcarpet": [
           {
            "colorbar": {
             "outlinewidth": 0,
             "ticks": ""
            },
            "type": "contourcarpet"
           }
          ],
          "heatmap": [
           {
            "colorbar": {
             "outlinewidth": 0,
             "ticks": ""
            },
            "colorscale": [
             [
              0,
              "#0d0887"
             ],
             [
              0.1111111111111111,
              "#46039f"
             ],
             [
              0.2222222222222222,
              "#7201a8"
             ],
             [
              0.3333333333333333,
              "#9c179e"
             ],
             [
              0.4444444444444444,
              "#bd3786"
             ],
             [
              0.5555555555555556,
              "#d8576b"
             ],
             [
              0.6666666666666666,
              "#ed7953"
             ],
             [
              0.7777777777777778,
              "#fb9f3a"
             ],
             [
              0.8888888888888888,
              "#fdca26"
             ],
             [
              1,
              "#f0f921"
             ]
            ],
            "type": "heatmap"
           }
          ],
          "histogram": [
           {
            "marker": {
             "pattern": {
              "fillmode": "overlay",
              "size": 10,
              "solidity": 0.2
             }
            },
            "type": "histogram"
           }
          ],
          "histogram2d": [
           {
            "colorbar": {
             "outlinewidth": 0,
             "ticks": ""
            },
            "colorscale": [
             [
              0,
              "#0d0887"
             ],
             [
              0.1111111111111111,
              "#46039f"
             ],
             [
              0.2222222222222222,
              "#7201a8"
             ],
             [
              0.3333333333333333,
              "#9c179e"
             ],
             [
              0.4444444444444444,
              "#bd3786"
             ],
             [
              0.5555555555555556,
              "#d8576b"
             ],
             [
              0.6666666666666666,
              "#ed7953"
             ],
             [
              0.7777777777777778,
              "#fb9f3a"
             ],
             [
              0.8888888888888888,
              "#fdca26"
             ],
             [
              1,
              "#f0f921"
             ]
            ],
            "type": "histogram2d"
           }
          ],
          "histogram2dcontour": [
           {
            "colorbar": {
             "outlinewidth": 0,
             "ticks": ""
            },
            "colorscale": [
             [
              0,
              "#0d0887"
             ],
             [
              0.1111111111111111,
              "#46039f"
             ],
             [
              0.2222222222222222,
              "#7201a8"
             ],
             [
              0.3333333333333333,
              "#9c179e"
             ],
             [
              0.4444444444444444,
              "#bd3786"
             ],
             [
              0.5555555555555556,
              "#d8576b"
             ],
             [
              0.6666666666666666,
              "#ed7953"
             ],
             [
              0.7777777777777778,
              "#fb9f3a"
             ],
             [
              0.8888888888888888,
              "#fdca26"
             ],
             [
              1,
              "#f0f921"
             ]
            ],
            "type": "histogram2dcontour"
           }
          ],
          "mesh3d": [
           {
            "colorbar": {
             "outlinewidth": 0,
             "ticks": ""
            },
            "type": "mesh3d"
           }
          ],
          "parcoords": [
           {
            "line": {
             "colorbar": {
              "outlinewidth": 0,
              "ticks": ""
             }
            },
            "type": "parcoords"
           }
          ],
          "pie": [
           {
            "automargin": true,
            "type": "pie"
           }
          ],
          "scatter": [
           {
            "fillpattern": {
             "fillmode": "overlay",
             "size": 10,
             "solidity": 0.2
            },
            "type": "scatter"
           }
          ],
          "scatter3d": [
           {
            "line": {
             "colorbar": {
              "outlinewidth": 0,
              "ticks": ""
             }
            },
            "marker": {
             "colorbar": {
              "outlinewidth": 0,
              "ticks": ""
             }
            },
            "type": "scatter3d"
           }
          ],
          "scattercarpet": [
           {
            "marker": {
             "colorbar": {
              "outlinewidth": 0,
              "ticks": ""
             }
            },
            "type": "scattercarpet"
           }
          ],
          "scattergeo": [
           {
            "marker": {
             "colorbar": {
              "outlinewidth": 0,
              "ticks": ""
             }
            },
            "type": "scattergeo"
           }
          ],
          "scattergl": [
           {
            "marker": {
             "colorbar": {
              "outlinewidth": 0,
              "ticks": ""
             }
            },
            "type": "scattergl"
           }
          ],
          "scattermap": [
           {
            "marker": {
             "colorbar": {
              "outlinewidth": 0,
              "ticks": ""
             }
            },
            "type": "scattermap"
           }
          ],
          "scattermapbox": [
           {
            "marker": {
             "colorbar": {
              "outlinewidth": 0,
              "ticks": ""
             }
            },
            "type": "scattermapbox"
           }
          ],
          "scatterpolar": [
           {
            "marker": {
             "colorbar": {
              "outlinewidth": 0,
              "ticks": ""
             }
            },
            "type": "scatterpolar"
           }
          ],
          "scatterpolargl": [
           {
            "marker": {
             "colorbar": {
              "outlinewidth": 0,
              "ticks": ""
             }
            },
            "type": "scatterpolargl"
           }
          ],
          "scatterternary": [
           {
            "marker": {
             "colorbar": {
              "outlinewidth": 0,
              "ticks": ""
             }
            },
            "type": "scatterternary"
           }
          ],
          "surface": [
           {
            "colorbar": {
             "outlinewidth": 0,
             "ticks": ""
            },
            "colorscale": [
             [
              0,
              "#0d0887"
             ],
             [
              0.1111111111111111,
              "#46039f"
             ],
             [
              0.2222222222222222,
              "#7201a8"
             ],
             [
              0.3333333333333333,
              "#9c179e"
             ],
             [
              0.4444444444444444,
              "#bd3786"
             ],
             [
              0.5555555555555556,
              "#d8576b"
             ],
             [
              0.6666666666666666,
              "#ed7953"
             ],
             [
              0.7777777777777778,
              "#fb9f3a"
             ],
             [
              0.8888888888888888,
              "#fdca26"
             ],
             [
              1,
              "#f0f921"
             ]
            ],
            "type": "surface"
           }
          ],
          "table": [
           {
            "cells": {
             "fill": {
              "color": "#EBF0F8"
             },
             "line": {
              "color": "white"
             }
            },
            "header": {
             "fill": {
              "color": "#C8D4E3"
             },
             "line": {
              "color": "white"
             }
            },
            "type": "table"
           }
          ]
         },
         "layout": {
          "annotationdefaults": {
           "arrowcolor": "#2a3f5f",
           "arrowhead": 0,
           "arrowwidth": 1
          },
          "autotypenumbers": "strict",
          "coloraxis": {
           "colorbar": {
            "outlinewidth": 0,
            "ticks": ""
           }
          },
          "colorscale": {
           "diverging": [
            [
             0,
             "#8e0152"
            ],
            [
             0.1,
             "#c51b7d"
            ],
            [
             0.2,
             "#de77ae"
            ],
            [
             0.3,
             "#f1b6da"
            ],
            [
             0.4,
             "#fde0ef"
            ],
            [
             0.5,
             "#f7f7f7"
            ],
            [
             0.6,
             "#e6f5d0"
            ],
            [
             0.7,
             "#b8e186"
            ],
            [
             0.8,
             "#7fbc41"
            ],
            [
             0.9,
             "#4d9221"
            ],
            [
             1,
             "#276419"
            ]
           ],
           "sequential": [
            [
             0,
             "#0d0887"
            ],
            [
             0.1111111111111111,
             "#46039f"
            ],
            [
             0.2222222222222222,
             "#7201a8"
            ],
            [
             0.3333333333333333,
             "#9c179e"
            ],
            [
             0.4444444444444444,
             "#bd3786"
            ],
            [
             0.5555555555555556,
             "#d8576b"
            ],
            [
             0.6666666666666666,
             "#ed7953"
            ],
            [
             0.7777777777777778,
             "#fb9f3a"
            ],
            [
             0.8888888888888888,
             "#fdca26"
            ],
            [
             1,
             "#f0f921"
            ]
           ],
           "sequentialminus": [
            [
             0,
             "#0d0887"
            ],
            [
             0.1111111111111111,
             "#46039f"
            ],
            [
             0.2222222222222222,
             "#7201a8"
            ],
            [
             0.3333333333333333,
             "#9c179e"
            ],
            [
             0.4444444444444444,
             "#bd3786"
            ],
            [
             0.5555555555555556,
             "#d8576b"
            ],
            [
             0.6666666666666666,
             "#ed7953"
            ],
            [
             0.7777777777777778,
             "#fb9f3a"
            ],
            [
             0.8888888888888888,
             "#fdca26"
            ],
            [
             1,
             "#f0f921"
            ]
           ]
          },
          "colorway": [
           "#636efa",
           "#EF553B",
           "#00cc96",
           "#ab63fa",
           "#FFA15A",
           "#19d3f3",
           "#FF6692",
           "#B6E880",
           "#FF97FF",
           "#FECB52"
          ],
          "font": {
           "color": "#2a3f5f"
          },
          "geo": {
           "bgcolor": "white",
           "lakecolor": "white",
           "landcolor": "#E5ECF6",
           "showlakes": true,
           "showland": true,
           "subunitcolor": "white"
          },
          "hoverlabel": {
           "align": "left"
          },
          "hovermode": "closest",
          "mapbox": {
           "style": "light"
          },
          "paper_bgcolor": "white",
          "plot_bgcolor": "#E5ECF6",
          "polar": {
           "angularaxis": {
            "gridcolor": "white",
            "linecolor": "white",
            "ticks": ""
           },
           "bgcolor": "#E5ECF6",
           "radialaxis": {
            "gridcolor": "white",
            "linecolor": "white",
            "ticks": ""
           }
          },
          "scene": {
           "xaxis": {
            "backgroundcolor": "#E5ECF6",
            "gridcolor": "white",
            "gridwidth": 2,
            "linecolor": "white",
            "showbackground": true,
            "ticks": "",
            "zerolinecolor": "white"
           },
           "yaxis": {
            "backgroundcolor": "#E5ECF6",
            "gridcolor": "white",
            "gridwidth": 2,
            "linecolor": "white",
            "showbackground": true,
            "ticks": "",
            "zerolinecolor": "white"
           },
           "zaxis": {
            "backgroundcolor": "#E5ECF6",
            "gridcolor": "white",
            "gridwidth": 2,
            "linecolor": "white",
            "showbackground": true,
            "ticks": "",
            "zerolinecolor": "white"
           }
          },
          "shapedefaults": {
           "line": {
            "color": "#2a3f5f"
           }
          },
          "ternary": {
           "aaxis": {
            "gridcolor": "white",
            "linecolor": "white",
            "ticks": ""
           },
           "baxis": {
            "gridcolor": "white",
            "linecolor": "white",
            "ticks": ""
           },
           "bgcolor": "#E5ECF6",
           "caxis": {
            "gridcolor": "white",
            "linecolor": "white",
            "ticks": ""
           }
          },
          "title": {
           "x": 0.05
          },
          "xaxis": {
           "automargin": true,
           "gridcolor": "white",
           "linecolor": "white",
           "ticks": "",
           "title": {
            "standoff": 15
           },
           "zerolinecolor": "white",
           "zerolinewidth": 2
          },
          "yaxis": {
           "automargin": true,
           "gridcolor": "white",
           "linecolor": "white",
           "ticks": "",
           "title": {
            "standoff": 15
           },
           "zerolinecolor": "white",
           "zerolinewidth": 2
          }
         }
        },
        "title": {
         "text": "Rating Distribution"
        },
        "xaxis": {
         "anchor": "y",
         "domain": [
          0,
          1
         ],
         "title": {
          "text": "Average_rating"
         }
        },
        "yaxis": {
         "anchor": "x",
         "domain": [
          0,
          1
         ],
         "title": {
          "text": "count"
         }
        }
       }
      }
     },
     "metadata": {},
     "output_type": "display_data"
    }
   ],
   "source": [
    "px.histogram(df, x='Average_rating', nbins=30, title='Rating Distribution')"
   ]
  },
  {
   "cell_type": "code",
   "execution_count": 24,
   "id": "cb2fa31c",
   "metadata": {},
   "outputs": [],
   "source": [
    "## Most Watched Films\t\n",
    "top10_watches = df.groupby('Film_title')['Watches'].max().sort_values(ascending = False).head(10).reset_index()"
   ]
  },
  {
   "cell_type": "code",
   "execution_count": 25,
   "metadata": {},
   "outputs": [
    {
     "data": {
      "application/vnd.plotly.v1+json": {
       "config": {
        "plotlyServerURL": "https://plot.ly"
       },
       "data": [
        {
         "hovertemplate": "Film_title=%{x}<br>Watches=%{marker.color}<extra></extra>",
         "legendgroup": "",
         "marker": {
          "color": {
           "bdata": "70ZPAIo0TQD7+kwAAYZMAFCRSwDre0QACdhDANYIQwBj70IAY+BCAA==",
           "dtype": "i4"
          },
          "coloraxis": "coloraxis",
          "pattern": {
           "shape": ""
          }
         },
         "name": "",
         "orientation": "v",
         "showlegend": false,
         "text": {
          "bdata": "AAAAwLvRU0EAAACAIk1TQQAAAMC+PlNBAAAAQIAhU0EAAAAAVORSQQAAAMD6HlFBAAAAQAL2UEEAAACANcJQQQAAAMDYu1BBAAAAwBi4UEE=",
          "dtype": "f8"
         },
         "textposition": "outside",
         "texttemplate": "%{text:.2f}",
         "type": "bar",
         "x": [
          "Barbie",
          "Fight Club",
          "Interstellar",
          "Parasite",
          "Joker",
          "The Dark Knight",
          "Spider-Man: Into the Spider-Verse",
          "La La Land",
          "Pulp Fiction",
          "The Truman Show"
         ],
         "xaxis": "x",
         "y": {
          "bdata": "70ZPAIo0TQD7+kwAAYZMAFCRSwDre0QACdhDANYIQwBj70IAY+BCAA==",
          "dtype": "i4"
         },
         "yaxis": "y"
        }
       ],
       "layout": {
        "barmode": "relative",
        "coloraxis": {
         "colorbar": {
          "title": {
           "text": "Watches"
          }
         },
         "colorscale": [
          [
           0,
           "#00224e"
          ],
          [
           0.1111111111111111,
           "#123570"
          ],
          [
           0.2222222222222222,
           "#3b496c"
          ],
          [
           0.3333333333333333,
           "#575d6d"
          ],
          [
           0.4444444444444444,
           "#707173"
          ],
          [
           0.5555555555555556,
           "#8a8678"
          ],
          [
           0.6666666666666666,
           "#a59c74"
          ],
          [
           0.7777777777777778,
           "#c3b369"
          ],
          [
           0.8888888888888888,
           "#e1cc55"
          ],
          [
           1,
           "#fee838"
          ]
         ]
        },
        "height": 650,
        "legend": {
         "tracegroupgap": 0
        },
        "template": {
         "data": {
          "bar": [
           {
            "error_x": {
             "color": "#2a3f5f"
            },
            "error_y": {
             "color": "#2a3f5f"
            },
            "marker": {
             "line": {
              "color": "#E5ECF6",
              "width": 0.5
             },
             "pattern": {
              "fillmode": "overlay",
              "size": 10,
              "solidity": 0.2
             }
            },
            "type": "bar"
           }
          ],
          "barpolar": [
           {
            "marker": {
             "line": {
              "color": "#E5ECF6",
              "width": 0.5
             },
             "pattern": {
              "fillmode": "overlay",
              "size": 10,
              "solidity": 0.2
             }
            },
            "type": "barpolar"
           }
          ],
          "carpet": [
           {
            "aaxis": {
             "endlinecolor": "#2a3f5f",
             "gridcolor": "white",
             "linecolor": "white",
             "minorgridcolor": "white",
             "startlinecolor": "#2a3f5f"
            },
            "baxis": {
             "endlinecolor": "#2a3f5f",
             "gridcolor": "white",
             "linecolor": "white",
             "minorgridcolor": "white",
             "startlinecolor": "#2a3f5f"
            },
            "type": "carpet"
           }
          ],
          "choropleth": [
           {
            "colorbar": {
             "outlinewidth": 0,
             "ticks": ""
            },
            "type": "choropleth"
           }
          ],
          "contour": [
           {
            "colorbar": {
             "outlinewidth": 0,
             "ticks": ""
            },
            "colorscale": [
             [
              0,
              "#0d0887"
             ],
             [
              0.1111111111111111,
              "#46039f"
             ],
             [
              0.2222222222222222,
              "#7201a8"
             ],
             [
              0.3333333333333333,
              "#9c179e"
             ],
             [
              0.4444444444444444,
              "#bd3786"
             ],
             [
              0.5555555555555556,
              "#d8576b"
             ],
             [
              0.6666666666666666,
              "#ed7953"
             ],
             [
              0.7777777777777778,
              "#fb9f3a"
             ],
             [
              0.8888888888888888,
              "#fdca26"
             ],
             [
              1,
              "#f0f921"
             ]
            ],
            "type": "contour"
           }
          ],
          "contourcarpet": [
           {
            "colorbar": {
             "outlinewidth": 0,
             "ticks": ""
            },
            "type": "contourcarpet"
           }
          ],
          "heatmap": [
           {
            "colorbar": {
             "outlinewidth": 0,
             "ticks": ""
            },
            "colorscale": [
             [
              0,
              "#0d0887"
             ],
             [
              0.1111111111111111,
              "#46039f"
             ],
             [
              0.2222222222222222,
              "#7201a8"
             ],
             [
              0.3333333333333333,
              "#9c179e"
             ],
             [
              0.4444444444444444,
              "#bd3786"
             ],
             [
              0.5555555555555556,
              "#d8576b"
             ],
             [
              0.6666666666666666,
              "#ed7953"
             ],
             [
              0.7777777777777778,
              "#fb9f3a"
             ],
             [
              0.8888888888888888,
              "#fdca26"
             ],
             [
              1,
              "#f0f921"
             ]
            ],
            "type": "heatmap"
           }
          ],
          "histogram": [
           {
            "marker": {
             "pattern": {
              "fillmode": "overlay",
              "size": 10,
              "solidity": 0.2
             }
            },
            "type": "histogram"
           }
          ],
          "histogram2d": [
           {
            "colorbar": {
             "outlinewidth": 0,
             "ticks": ""
            },
            "colorscale": [
             [
              0,
              "#0d0887"
             ],
             [
              0.1111111111111111,
              "#46039f"
             ],
             [
              0.2222222222222222,
              "#7201a8"
             ],
             [
              0.3333333333333333,
              "#9c179e"
             ],
             [
              0.4444444444444444,
              "#bd3786"
             ],
             [
              0.5555555555555556,
              "#d8576b"
             ],
             [
              0.6666666666666666,
              "#ed7953"
             ],
             [
              0.7777777777777778,
              "#fb9f3a"
             ],
             [
              0.8888888888888888,
              "#fdca26"
             ],
             [
              1,
              "#f0f921"
             ]
            ],
            "type": "histogram2d"
           }
          ],
          "histogram2dcontour": [
           {
            "colorbar": {
             "outlinewidth": 0,
             "ticks": ""
            },
            "colorscale": [
             [
              0,
              "#0d0887"
             ],
             [
              0.1111111111111111,
              "#46039f"
             ],
             [
              0.2222222222222222,
              "#7201a8"
             ],
             [
              0.3333333333333333,
              "#9c179e"
             ],
             [
              0.4444444444444444,
              "#bd3786"
             ],
             [
              0.5555555555555556,
              "#d8576b"
             ],
             [
              0.6666666666666666,
              "#ed7953"
             ],
             [
              0.7777777777777778,
              "#fb9f3a"
             ],
             [
              0.8888888888888888,
              "#fdca26"
             ],
             [
              1,
              "#f0f921"
             ]
            ],
            "type": "histogram2dcontour"
           }
          ],
          "mesh3d": [
           {
            "colorbar": {
             "outlinewidth": 0,
             "ticks": ""
            },
            "type": "mesh3d"
           }
          ],
          "parcoords": [
           {
            "line": {
             "colorbar": {
              "outlinewidth": 0,
              "ticks": ""
             }
            },
            "type": "parcoords"
           }
          ],
          "pie": [
           {
            "automargin": true,
            "type": "pie"
           }
          ],
          "scatter": [
           {
            "fillpattern": {
             "fillmode": "overlay",
             "size": 10,
             "solidity": 0.2
            },
            "type": "scatter"
           }
          ],
          "scatter3d": [
           {
            "line": {
             "colorbar": {
              "outlinewidth": 0,
              "ticks": ""
             }
            },
            "marker": {
             "colorbar": {
              "outlinewidth": 0,
              "ticks": ""
             }
            },
            "type": "scatter3d"
           }
          ],
          "scattercarpet": [
           {
            "marker": {
             "colorbar": {
              "outlinewidth": 0,
              "ticks": ""
             }
            },
            "type": "scattercarpet"
           }
          ],
          "scattergeo": [
           {
            "marker": {
             "colorbar": {
              "outlinewidth": 0,
              "ticks": ""
             }
            },
            "type": "scattergeo"
           }
          ],
          "scattergl": [
           {
            "marker": {
             "colorbar": {
              "outlinewidth": 0,
              "ticks": ""
             }
            },
            "type": "scattergl"
           }
          ],
          "scattermap": [
           {
            "marker": {
             "colorbar": {
              "outlinewidth": 0,
              "ticks": ""
             }
            },
            "type": "scattermap"
           }
          ],
          "scattermapbox": [
           {
            "marker": {
             "colorbar": {
              "outlinewidth": 0,
              "ticks": ""
             }
            },
            "type": "scattermapbox"
           }
          ],
          "scatterpolar": [
           {
            "marker": {
             "colorbar": {
              "outlinewidth": 0,
              "ticks": ""
             }
            },
            "type": "scatterpolar"
           }
          ],
          "scatterpolargl": [
           {
            "marker": {
             "colorbar": {
              "outlinewidth": 0,
              "ticks": ""
             }
            },
            "type": "scatterpolargl"
           }
          ],
          "scatterternary": [
           {
            "marker": {
             "colorbar": {
              "outlinewidth": 0,
              "ticks": ""
             }
            },
            "type": "scatterternary"
           }
          ],
          "surface": [
           {
            "colorbar": {
             "outlinewidth": 0,
             "ticks": ""
            },
            "colorscale": [
             [
              0,
              "#0d0887"
             ],
             [
              0.1111111111111111,
              "#46039f"
             ],
             [
              0.2222222222222222,
              "#7201a8"
             ],
             [
              0.3333333333333333,
              "#9c179e"
             ],
             [
              0.4444444444444444,
              "#bd3786"
             ],
             [
              0.5555555555555556,
              "#d8576b"
             ],
             [
              0.6666666666666666,
              "#ed7953"
             ],
             [
              0.7777777777777778,
              "#fb9f3a"
             ],
             [
              0.8888888888888888,
              "#fdca26"
             ],
             [
              1,
              "#f0f921"
             ]
            ],
            "type": "surface"
           }
          ],
          "table": [
           {
            "cells": {
             "fill": {
              "color": "#EBF0F8"
             },
             "line": {
              "color": "white"
             }
            },
            "header": {
             "fill": {
              "color": "#C8D4E3"
             },
             "line": {
              "color": "white"
             }
            },
            "type": "table"
           }
          ]
         },
         "layout": {
          "annotationdefaults": {
           "arrowcolor": "#2a3f5f",
           "arrowhead": 0,
           "arrowwidth": 1
          },
          "autotypenumbers": "strict",
          "coloraxis": {
           "colorbar": {
            "outlinewidth": 0,
            "ticks": ""
           }
          },
          "colorscale": {
           "diverging": [
            [
             0,
             "#8e0152"
            ],
            [
             0.1,
             "#c51b7d"
            ],
            [
             0.2,
             "#de77ae"
            ],
            [
             0.3,
             "#f1b6da"
            ],
            [
             0.4,
             "#fde0ef"
            ],
            [
             0.5,
             "#f7f7f7"
            ],
            [
             0.6,
             "#e6f5d0"
            ],
            [
             0.7,
             "#b8e186"
            ],
            [
             0.8,
             "#7fbc41"
            ],
            [
             0.9,
             "#4d9221"
            ],
            [
             1,
             "#276419"
            ]
           ],
           "sequential": [
            [
             0,
             "#0d0887"
            ],
            [
             0.1111111111111111,
             "#46039f"
            ],
            [
             0.2222222222222222,
             "#7201a8"
            ],
            [
             0.3333333333333333,
             "#9c179e"
            ],
            [
             0.4444444444444444,
             "#bd3786"
            ],
            [
             0.5555555555555556,
             "#d8576b"
            ],
            [
             0.6666666666666666,
             "#ed7953"
            ],
            [
             0.7777777777777778,
             "#fb9f3a"
            ],
            [
             0.8888888888888888,
             "#fdca26"
            ],
            [
             1,
             "#f0f921"
            ]
           ],
           "sequentialminus": [
            [
             0,
             "#0d0887"
            ],
            [
             0.1111111111111111,
             "#46039f"
            ],
            [
             0.2222222222222222,
             "#7201a8"
            ],
            [
             0.3333333333333333,
             "#9c179e"
            ],
            [
             0.4444444444444444,
             "#bd3786"
            ],
            [
             0.5555555555555556,
             "#d8576b"
            ],
            [
             0.6666666666666666,
             "#ed7953"
            ],
            [
             0.7777777777777778,
             "#fb9f3a"
            ],
            [
             0.8888888888888888,
             "#fdca26"
            ],
            [
             1,
             "#f0f921"
            ]
           ]
          },
          "colorway": [
           "#636efa",
           "#EF553B",
           "#00cc96",
           "#ab63fa",
           "#FFA15A",
           "#19d3f3",
           "#FF6692",
           "#B6E880",
           "#FF97FF",
           "#FECB52"
          ],
          "font": {
           "color": "#2a3f5f"
          },
          "geo": {
           "bgcolor": "white",
           "lakecolor": "white",
           "landcolor": "#E5ECF6",
           "showlakes": true,
           "showland": true,
           "subunitcolor": "white"
          },
          "hoverlabel": {
           "align": "left"
          },
          "hovermode": "closest",
          "mapbox": {
           "style": "light"
          },
          "paper_bgcolor": "white",
          "plot_bgcolor": "#E5ECF6",
          "polar": {
           "angularaxis": {
            "gridcolor": "white",
            "linecolor": "white",
            "ticks": ""
           },
           "bgcolor": "#E5ECF6",
           "radialaxis": {
            "gridcolor": "white",
            "linecolor": "white",
            "ticks": ""
           }
          },
          "scene": {
           "xaxis": {
            "backgroundcolor": "#E5ECF6",
            "gridcolor": "white",
            "gridwidth": 2,
            "linecolor": "white",
            "showbackground": true,
            "ticks": "",
            "zerolinecolor": "white"
           },
           "yaxis": {
            "backgroundcolor": "#E5ECF6",
            "gridcolor": "white",
            "gridwidth": 2,
            "linecolor": "white",
            "showbackground": true,
            "ticks": "",
            "zerolinecolor": "white"
           },
           "zaxis": {
            "backgroundcolor": "#E5ECF6",
            "gridcolor": "white",
            "gridwidth": 2,
            "linecolor": "white",
            "showbackground": true,
            "ticks": "",
            "zerolinecolor": "white"
           }
          },
          "shapedefaults": {
           "line": {
            "color": "#2a3f5f"
           }
          },
          "ternary": {
           "aaxis": {
            "gridcolor": "white",
            "linecolor": "white",
            "ticks": ""
           },
           "baxis": {
            "gridcolor": "white",
            "linecolor": "white",
            "ticks": ""
           },
           "bgcolor": "#E5ECF6",
           "caxis": {
            "gridcolor": "white",
            "linecolor": "white",
            "ticks": ""
           }
          },
          "title": {
           "x": 0.05
          },
          "xaxis": {
           "automargin": true,
           "gridcolor": "white",
           "linecolor": "white",
           "ticks": "",
           "title": {
            "standoff": 15
           },
           "zerolinecolor": "white",
           "zerolinewidth": 2
          },
          "yaxis": {
           "automargin": true,
           "gridcolor": "white",
           "linecolor": "white",
           "ticks": "",
           "title": {
            "standoff": 15
           },
           "zerolinecolor": "white",
           "zerolinewidth": 2
          }
         }
        },
        "title": {
         "text": "top 10 films watched"
        },
        "width": 900,
        "xaxis": {
         "anchor": "y",
         "domain": [
          0,
          1
         ],
         "tickangle": 45,
         "title": {
          "text": "Film_title"
         }
        },
        "yaxis": {
         "anchor": "x",
         "domain": [
          0,
          1
         ],
         "title": {
          "text": "Watches"
         }
        }
       }
      }
     },
     "metadata": {},
     "output_type": "display_data"
    }
   ],
   "source": [
    "fig1= px.bar(top10_watches,x= 'Film_title', y= 'Watches',\n",
    "        title = 'top 10 films watched',\n",
    "        color = 'Watches', text= 'Watches', color_continuous_scale='Cividis')\n",
    "fig1.update_traces(texttemplate='%{text:.2f}', textposition='outside')\n",
    "fig1.update_layout(xaxis_tickangle=45, width=900, height=650)\n",
    "fig1 "
   ]
  },
  {
   "cell_type": "code",
   "execution_count": 26,
   "id": "ccc7982c",
   "metadata": {},
   "outputs": [
    {
     "data": {
      "text/html": [
       "<div>\n",
       "<style scoped>\n",
       "    .dataframe tbody tr th:only-of-type {\n",
       "        vertical-align: middle;\n",
       "    }\n",
       "\n",
       "    .dataframe tbody tr th {\n",
       "        vertical-align: top;\n",
       "    }\n",
       "\n",
       "    .dataframe thead th {\n",
       "        text-align: right;\n",
       "    }\n",
       "</style>\n",
       "<table border=\"1\" class=\"dataframe\">\n",
       "  <thead>\n",
       "    <tr style=\"text-align: right;\">\n",
       "      <th></th>\n",
       "      <th>Film_title</th>\n",
       "      <th>Director</th>\n",
       "      <th>Average_rating</th>\n",
       "      <th>Genres</th>\n",
       "      <th>Runtime</th>\n",
       "      <th>Original_language</th>\n",
       "      <th>Studios</th>\n",
       "      <th>Watches</th>\n",
       "      <th>List_appearances</th>\n",
       "      <th>Likes</th>\n",
       "      <th>Fans</th>\n",
       "      <th>Lowest</th>\n",
       "      <th>Medium</th>\n",
       "      <th>Highest</th>\n",
       "      <th>Total_ratings</th>\n",
       "    </tr>\n",
       "  </thead>\n",
       "  <tbody>\n",
       "    <tr>\n",
       "      <th>4822</th>\n",
       "      <td>Parasite</td>\n",
       "      <td>Charles Band</td>\n",
       "      <td>2.40</td>\n",
       "      <td>['Science Fiction', 'Horror']</td>\n",
       "      <td>85.0</td>\n",
       "      <td>English</td>\n",
       "      <td>Unknown</td>\n",
       "      <td>3653</td>\n",
       "      <td>3841</td>\n",
       "      <td>467</td>\n",
       "      <td>4</td>\n",
       "      <td>263</td>\n",
       "      <td>542</td>\n",
       "      <td>36</td>\n",
       "      <td>2602</td>\n",
       "    </tr>\n",
       "    <tr>\n",
       "      <th>7553</th>\n",
       "      <td>Parasite</td>\n",
       "      <td>Bong Joon Ho</td>\n",
       "      <td>4.55</td>\n",
       "      <td>['Comedy', 'Thriller', 'Drama']</td>\n",
       "      <td>133.0</td>\n",
       "      <td>Korean</td>\n",
       "      <td>['Barunson E&amp;A']</td>\n",
       "      <td>5015041</td>\n",
       "      <td>653081</td>\n",
       "      <td>2730813</td>\n",
       "      <td>121000</td>\n",
       "      <td>7857</td>\n",
       "      <td>133796</td>\n",
       "      <td>2010363</td>\n",
       "      <td>3800561</td>\n",
       "    </tr>\n",
       "  </tbody>\n",
       "</table>\n",
       "</div>"
      ],
      "text/plain": [
       "     Film_title      Director  Average_rating  \\\n",
       "4822   Parasite  Charles Band            2.40   \n",
       "7553   Parasite  Bong Joon Ho            4.55   \n",
       "\n",
       "                               Genres  Runtime Original_language  \\\n",
       "4822    ['Science Fiction', 'Horror']     85.0           English   \n",
       "7553  ['Comedy', 'Thriller', 'Drama']    133.0            Korean   \n",
       "\n",
       "               Studios  Watches  List_appearances    Likes    Fans  Lowest  \\\n",
       "4822           Unknown     3653              3841      467       4     263   \n",
       "7553  ['Barunson E&A']  5015041            653081  2730813  121000    7857   \n",
       "\n",
       "      Medium  Highest  Total_ratings  \n",
       "4822     542       36           2602  \n",
       "7553  133796  2010363        3800561  "
      ]
     },
     "execution_count": 26,
     "metadata": {},
     "output_type": "execute_result"
    }
   ],
   "source": [
    "df[df['Film_title']== 'Parasite']"
   ]
  },
  {
   "cell_type": "code",
   "execution_count": 27,
   "metadata": {},
   "outputs": [],
   "source": [
    "## Most liked Films\t\n",
    "top10_likes= df.groupby('Film_title')['Likes'].max().sort_values(ascending = False).head(10).reset_index()"
   ]
  },
  {
   "cell_type": "code",
   "execution_count": 28,
   "metadata": {},
   "outputs": [
    {
     "name": "stderr",
     "output_type": "stream",
     "text": [
      "C:\\Users\\gamea\\AppData\\Local\\Temp\\ipykernel_3532\\1625002680.py:2: FutureWarning:\n",
      "\n",
      "\n",
      "\n",
      "Passing `palette` without assigning `hue` is deprecated and will be removed in v0.14.0. Assign the `y` variable to `hue` and set `legend=False` for the same effect.\n",
      "\n",
      "\n"
     ]
    },
    {
     "data": {
      "image/png": "[encoded data removed]",
      "text/plain": [
       "<Figure size 800x500 with 1 Axes>"
      ]
     },
     "metadata": {},
     "output_type": "display_data"
    }
   ],
   "source": [
    "plt.figure(figsize=(8, 5))\n",
    "sns.barplot(data=top10_likes, x='Likes', y='Film_title', palette='magma')  \n",
    "plt.title('Top 10 Most Liked Films')\n",
    "plt.xlabel('Likes')\n",
    "plt.ylabel('Film Title')\n",
    "plt.tight_layout()\n",
    "plt.show()"
   ]
  },
  {
   "cell_type": "code",
   "execution_count": 29,
   "id": "9668f5db",
   "metadata": {},
   "outputs": [],
   "source": [
    "## Most Followed Films (Fans)\t\n",
    "top_fans = df[['Film_title', 'Fans']].sort_values(by='Fans', ascending=False).head(10)"
   ]
  },
  {
   "cell_type": "code",
   "execution_count": 30,
   "metadata": {},
   "outputs": [
    {
     "data": {
      "application/vnd.plotly.v1+json": {
       "config": {
        "plotlyServerURL": "https://plot.ly"
       },
       "data": [
        {
         "hovertemplate": "Film_title=%{x}<br>Fans=%{marker.size}<extra></extra>",
         "legendgroup": "Interstellar",
         "marker": {
          "color": "#636efa",
          "size": {
           "bdata": "cPkEAA==",
           "dtype": "i4"
          },
          "sizemode": "area",
          "sizeref": 815,
          "symbol": "circle"
         },
         "mode": "markers",
         "name": "Interstellar",
         "orientation": "v",
         "showlegend": true,
         "type": "scatter",
         "x": [
          "Interstellar"
         ],
         "xaxis": "x",
         "y": {
          "bdata": "cPkEAA==",
          "dtype": "i4"
         },
         "yaxis": "y"
        },
        {
         "hovertemplate": "Film_title=%{x}<br>Fans=%{marker.size}<extra></extra>",
         "legendgroup": "La La Land",
         "marker": {
          "color": "#EF553B",
          "size": {
           "bdata": "SFkEAA==",
           "dtype": "i4"
          },
          "sizemode": "area",
          "sizeref": 815,
          "symbol": "circle"
         },
         "mode": "markers",
         "name": "La La Land",
         "orientation": "v",
         "showlegend": true,
         "type": "scatter",
         "x": [
          "La La Land"
         ],
         "xaxis": "x",
         "y": {
          "bdata": "SFkEAA==",
          "dtype": "i4"
         },
         "yaxis": "y"
        },
        {
         "hovertemplate": "Film_title=%{x}<br>Fans=%{marker.size}<extra></extra>",
         "legendgroup": "Dead Poets Society",
         "marker": {
          "color": "#00cc96",
          "size": {
           "bdata": "eNoCAA==",
           "dtype": "i4"
          },
          "sizemode": "area",
          "sizeref": 815,
          "symbol": "circle"
         },
         "mode": "markers",
         "name": "Dead Poets Society",
         "orientation": "v",
         "showlegend": true,
         "type": "scatter",
         "x": [
          "Dead Poets Society"
         ],
         "xaxis": "x",
         "y": {
          "bdata": "eNoCAA==",
          "dtype": "i4"
         },
         "yaxis": "y"
        },
        {
         "hovertemplate": "Film_title=%{x}<br>Fans=%{marker.size}<extra></extra>",
         "legendgroup": "Eternal Sunshine of the Spotless Mind",
         "marker": {
          "color": "#ab63fa",
          "size": {
           "bdata": "gK8CAA==",
           "dtype": "i4"
          },
          "sizemode": "area",
          "sizeref": 815,
          "symbol": "circle"
         },
         "mode": "markers",
         "name": "Eternal Sunshine of the Spotless Mind",
         "orientation": "v",
         "showlegend": true,
         "type": "scatter",
         "x": [
          "Eternal Sunshine of the Spotless Mind"
         ],
         "xaxis": "x",
         "y": {
          "bdata": "gK8CAA==",
          "dtype": "i4"
         },
         "yaxis": "y"
        },
        {
         "hovertemplate": "Film_title=%{x}<br>Fans=%{marker.size}<extra></extra>",
         "legendgroup": "Everything Everywhere All at Once",
         "marker": {
          "color": "#FFA15A",
          "size": {
           "bdata": "iIQCAA==",
           "dtype": "i4"
          },
          "sizemode": "area",
          "sizeref": 815,
          "symbol": "circle"
         },
         "mode": "markers",
         "name": "Everything Everywhere All at Once",
         "orientation": "v",
         "showlegend": true,
         "type": "scatter",
         "x": [
          "Everything Everywhere All at Once"
         ],
         "xaxis": "x",
         "y": {
          "bdata": "iIQCAA==",
          "dtype": "i4"
         },
         "yaxis": "y"
        },
        {
         "hovertemplate": "Film_title=%{x}<br>Fans=%{marker.size}<extra></extra>",
         "legendgroup": "Little Women",
         "marker": {
          "color": "#19d3f3",
          "size": {
           "bdata": "GG0CAA==",
           "dtype": "i4"
          },
          "sizemode": "area",
          "sizeref": 815,
          "symbol": "circle"
         },
         "mode": "markers",
         "name": "Little Women",
         "orientation": "v",
         "showlegend": true,
         "type": "scatter",
         "x": [
          "Little Women"
         ],
         "xaxis": "x",
         "y": {
          "bdata": "GG0CAA==",
          "dtype": "i4"
         },
         "yaxis": "y"
        },
        {
         "hovertemplate": "Film_title=%{x}<br>Fans=%{marker.size}<extra></extra>",
         "legendgroup": "Fight Club",
         "marker": {
          "color": "#FF6692",
          "size": {
           "bdata": "SGUCAA==",
           "dtype": "i4"
          },
          "sizemode": "area",
          "sizeref": 815,
          "symbol": "circle"
         },
         "mode": "markers",
         "name": "Fight Club",
         "orientation": "v",
         "showlegend": true,
         "type": "scatter",
         "x": [
          "Fight Club"
         ],
         "xaxis": "x",
         "y": {
          "bdata": "SGUCAA==",
          "dtype": "i4"
         },
         "yaxis": "y"
        },
        {
         "hovertemplate": "Film_title=%{x}<br>Fans=%{marker.size}<extra></extra>",
         "legendgroup": "Whiplash",
         "marker": {
          "color": "#B6E880",
          "size": {
           "bdata": "kFkCAA==",
           "dtype": "i4"
          },
          "sizemode": "area",
          "sizeref": 815,
          "symbol": "circle"
         },
         "mode": "markers",
         "name": "Whiplash",
         "orientation": "v",
         "showlegend": true,
         "type": "scatter",
         "x": [
          "Whiplash"
         ],
         "xaxis": "x",
         "y": {
          "bdata": "kFkCAA==",
          "dtype": "i4"
         },
         "yaxis": "y"
        },
        {
         "hovertemplate": "Film_title=%{x}<br>Fans=%{marker.size}<extra></extra>",
         "legendgroup": "10 Things I Hate About You",
         "marker": {
          "color": "#FF97FF",
          "size": {
           "bdata": "cAsCAA==",
           "dtype": "i4"
          },
          "sizemode": "area",
          "sizeref": 815,
          "symbol": "circle"
         },
         "mode": "markers",
         "name": "10 Things I Hate About You",
         "orientation": "v",
         "showlegend": true,
         "type": "scatter",
         "x": [
          "10 Things I Hate About You"
         ],
         "xaxis": "x",
         "y": {
          "bdata": "cAsCAA==",
          "dtype": "i4"
         },
         "yaxis": "y"
        },
        {
         "hovertemplate": "Film_title=%{x}<br>Fans=%{marker.size}<extra></extra>",
         "legendgroup": "Parasite",
         "marker": {
          "color": "#FECB52",
          "size": {
           "bdata": "qNgBAA==",
           "dtype": "i4"
          },
          "sizemode": "area",
          "sizeref": 815,
          "symbol": "circle"
         },
         "mode": "markers",
         "name": "Parasite",
         "orientation": "v",
         "showlegend": true,
         "type": "scatter",
         "x": [
          "Parasite"
         ],
         "xaxis": "x",
         "y": {
          "bdata": "qNgBAA==",
          "dtype": "i4"
         },
         "yaxis": "y"
        }
       ],
       "layout": {
        "legend": {
         "itemsizing": "constant",
         "title": {
          "text": "Film_title"
         },
         "tracegroupgap": 0
        },
        "showlegend": false,
        "template": {
         "data": {
          "bar": [
           {
            "error_x": {
             "color": "#2a3f5f"
            },
            "error_y": {
             "color": "#2a3f5f"
            },
            "marker": {
             "line": {
              "color": "#E5ECF6",
              "width": 0.5
             },
             "pattern": {
              "fillmode": "overlay",
              "size": 10,
              "solidity": 0.2
             }
            },
            "type": "bar"
           }
          ],
          "barpolar": [
           {
            "marker": {
             "line": {
              "color": "#E5ECF6",
              "width": 0.5
             },
             "pattern": {
              "fillmode": "overlay",
              "size": 10,
              "solidity": 0.2
             }
            },
            "type": "barpolar"
           }
          ],
          "carpet": [
           {
            "aaxis": {
             "endlinecolor": "#2a3f5f",
             "gridcolor": "white",
             "linecolor": "white",
             "minorgridcolor": "white",
             "startlinecolor": "#2a3f5f"
            },
            "baxis": {
             "endlinecolor": "#2a3f5f",
             "gridcolor": "white",
             "linecolor": "white",
             "minorgridcolor": "white",
             "startlinecolor": "#2a3f5f"
            },
            "type": "carpet"
           }
          ],
          "choropleth": [
           {
            "colorbar": {
             "outlinewidth": 0,
             "ticks": ""
            },
            "type": "choropleth"
           }
          ],
          "contour": [
           {
            "colorbar": {
             "outlinewidth": 0,
             "ticks": ""
            },
            "colorscale": [
             [
              0,
              "#0d0887"
             ],
             [
              0.1111111111111111,
              "#46039f"
             ],
             [
              0.2222222222222222,
              "#7201a8"
             ],
             [
              0.3333333333333333,
              "#9c179e"
             ],
             [
              0.4444444444444444,
              "#bd3786"
             ],
             [
              0.5555555555555556,
              "#d8576b"
             ],
             [
              0.6666666666666666,
              "#ed7953"
             ],
             [
              0.7777777777777778,
              "#fb9f3a"
             ],
             [
              0.8888888888888888,
              "#fdca26"
             ],
             [
              1,
              "#f0f921"
             ]
            ],
            "type": "contour"
           }
          ],
          "contourcarpet": [
           {
            "colorbar": {
             "outlinewidth": 0,
             "ticks": ""
            },
            "type": "contourcarpet"
           }
          ],
          "heatmap": [
           {
            "colorbar": {
             "outlinewidth": 0,
             "ticks": ""
            },
            "colorscale": [
             [
              0,
              "#0d0887"
             ],
             [
              0.1111111111111111,
              "#46039f"
             ],
             [
              0.2222222222222222,
              "#7201a8"
             ],
             [
              0.3333333333333333,
              "#9c179e"
             ],
             [
              0.4444444444444444,
              "#bd3786"
             ],
             [
              0.5555555555555556,
              "#d8576b"
             ],
             [
              0.6666666666666666,
              "#ed7953"
             ],
             [
              0.7777777777777778,
              "#fb9f3a"
             ],
             [
              0.8888888888888888,
              "#fdca26"
             ],
             [
              1,
              "#f0f921"
             ]
            ],
            "type": "heatmap"
           }
          ],
          "histogram": [
           {
            "marker": {
             "pattern": {
              "fillmode": "overlay",
              "size": 10,
              "solidity": 0.2
             }
            },
            "type": "histogram"
           }
          ],
          "histogram2d": [
           {
            "colorbar": {
             "outlinewidth": 0,
             "ticks": ""
            },
            "colorscale": [
             [
              0,
              "#0d0887"
             ],
             [
              0.1111111111111111,
              "#46039f"
             ],
             [
              0.2222222222222222,
              "#7201a8"
             ],
             [
              0.3333333333333333,
              "#9c179e"
             ],
             [
              0.4444444444444444,
              "#bd3786"
             ],
             [
              0.5555555555555556,
              "#d8576b"
             ],
             [
              0.6666666666666666,
              "#ed7953"
             ],
             [
              0.7777777777777778,
              "#fb9f3a"
             ],
             [
              0.8888888888888888,
              "#fdca26"
             ],
             [
              1,
              "#f0f921"
             ]
            ],
            "type": "histogram2d"
           }
          ],
          "histogram2dcontour": [
           {
            "colorbar": {
             "outlinewidth": 0,
             "ticks": ""
            },
            "colorscale": [
             [
              0,
              "#0d0887"
             ],
             [
              0.1111111111111111,
              "#46039f"
             ],
             [
              0.2222222222222222,
              "#7201a8"
             ],
             [
              0.3333333333333333,
              "#9c179e"
             ],
             [
              0.4444444444444444,
              "#bd3786"
             ],
             [
              0.5555555555555556,
              "#d8576b"
             ],
             [
              0.6666666666666666,
              "#ed7953"
             ],
             [
              0.7777777777777778,
              "#fb9f3a"
             ],
             [
              0.8888888888888888,
              "#fdca26"
             ],
             [
              1,
              "#f0f921"
             ]
            ],
            "type": "histogram2dcontour"
           }
          ],
          "mesh3d": [
           {
            "colorbar": {
             "outlinewidth": 0,
             "ticks": ""
            },
            "type": "mesh3d"
           }
          ],
          "parcoords": [
           {
            "line": {
             "colorbar": {
              "outlinewidth": 0,
              "ticks": ""
             }
            },
            "type": "parcoords"
           }
          ],
          "pie": [
           {
            "automargin": true,
            "type": "pie"
           }
          ],
          "scatter": [
           {
            "fillpattern": {
             "fillmode": "overlay",
             "size": 10,
             "solidity": 0.2
            },
            "type": "scatter"
           }
          ],
          "scatter3d": [
           {
            "line": {
             "colorbar": {
              "outlinewidth": 0,
              "ticks": ""
             }
            },
            "marker": {
             "colorbar": {
              "outlinewidth": 0,
              "ticks": ""
             }
            },
            "type": "scatter3d"
           }
          ],
          "scattercarpet": [
           {
            "marker": {
             "colorbar": {
              "outlinewidth": 0,
              "ticks": ""
             }
            },
            "type": "scattercarpet"
           }
          ],
          "scattergeo": [
           {
            "marker": {
             "colorbar": {
              "outlinewidth": 0,
              "ticks": ""
             }
            },
            "type": "scattergeo"
           }
          ],
          "scattergl": [
           {
            "marker": {
             "colorbar": {
              "outlinewidth": 0,
              "ticks": ""
             }
            },
            "type": "scattergl"
           }
          ],
          "scattermap": [
           {
            "marker": {
             "colorbar": {
              "outlinewidth": 0,
              "ticks": ""
             }
            },
            "type": "scattermap"
           }
          ],
          "scattermapbox": [
           {
            "marker": {
             "colorbar": {
              "outlinewidth": 0,
              "ticks": ""
             }
            },
            "type": "scattermapbox"
           }
          ],
          "scatterpolar": [
           {
            "marker": {
             "colorbar": {
              "outlinewidth": 0,
              "ticks": ""
             }
            },
            "type": "scatterpolar"
           }
          ],
          "scatterpolargl": [
           {
            "marker": {
             "colorbar": {
              "outlinewidth": 0,
              "ticks": ""
             }
            },
            "type": "scatterpolargl"
           }
          ],
          "scatterternary": [
           {
            "marker": {
             "colorbar": {
              "outlinewidth": 0,
              "ticks": ""
             }
            },
            "type": "scatterternary"
           }
          ],
          "surface": [
           {
            "colorbar": {
             "outlinewidth": 0,
             "ticks": ""
            },
            "colorscale": [
             [
              0,
              "#0d0887"
             ],
             [
              0.1111111111111111,
              "#46039f"
             ],
             [
              0.2222222222222222,
              "#7201a8"
             ],
             [
              0.3333333333333333,
              "#9c179e"
             ],
             [
              0.4444444444444444,
              "#bd3786"
             ],
             [
              0.5555555555555556,
              "#d8576b"
             ],
             [
              0.6666666666666666,
              "#ed7953"
             ],
             [
              0.7777777777777778,
              "#fb9f3a"
             ],
             [
              0.8888888888888888,
              "#fdca26"
             ],
             [
              1,
              "#f0f921"
             ]
            ],
            "type": "surface"
           }
          ],
          "table": [
           {
            "cells": {
             "fill": {
              "color": "#EBF0F8"
             },
             "line": {
              "color": "white"
             }
            },
            "header": {
             "fill": {
              "color": "#C8D4E3"
             },
             "line": {
              "color": "white"
             }
            },
            "type": "table"
           }
          ]
         },
         "layout": {
          "annotationdefaults": {
           "arrowcolor": "#2a3f5f",
           "arrowhead": 0,
           "arrowwidth": 1
          },
          "autotypenumbers": "strict",
          "coloraxis": {
           "colorbar": {
            "outlinewidth": 0,
            "ticks": ""
           }
          },
          "colorscale": {
           "diverging": [
            [
             0,
             "#8e0152"
            ],
            [
             0.1,
             "#c51b7d"
            ],
            [
             0.2,
             "#de77ae"
            ],
            [
             0.3,
             "#f1b6da"
            ],
            [
             0.4,
             "#fde0ef"
            ],
            [
             0.5,
             "#f7f7f7"
            ],
            [
             0.6,
             "#e6f5d0"
            ],
            [
             0.7,
             "#b8e186"
            ],
            [
             0.8,
             "#7fbc41"
            ],
            [
             0.9,
             "#4d9221"
            ],
            [
             1,
             "#276419"
            ]
           ],
           "sequential": [
            [
             0,
             "#0d0887"
            ],
            [
             0.1111111111111111,
             "#46039f"
            ],
            [
             0.2222222222222222,
             "#7201a8"
            ],
            [
             0.3333333333333333,
             "#9c179e"
            ],
            [
             0.4444444444444444,
             "#bd3786"
            ],
            [
             0.5555555555555556,
             "#d8576b"
            ],
            [
             0.6666666666666666,
             "#ed7953"
            ],
            [
             0.7777777777777778,
             "#fb9f3a"
            ],
            [
             0.8888888888888888,
             "#fdca26"
            ],
            [
             1,
             "#f0f921"
            ]
           ],
           "sequentialminus": [
            [
             0,
             "#0d0887"
            ],
            [
             0.1111111111111111,
             "#46039f"
            ],
            [
             0.2222222222222222,
             "#7201a8"
            ],
            [
             0.3333333333333333,
             "#9c179e"
            ],
            [
             0.4444444444444444,
             "#bd3786"
            ],
            [
             0.5555555555555556,
             "#d8576b"
            ],
            [
             0.6666666666666666,
             "#ed7953"
            ],
            [
             0.7777777777777778,
             "#fb9f3a"
            ],
            [
             0.8888888888888888,
             "#fdca26"
            ],
            [
             1,
             "#f0f921"
            ]
           ]
          },
          "colorway": [
           "#636efa",
           "#EF553B",
           "#00cc96",
           "#ab63fa",
           "#FFA15A",
           "#19d3f3",
           "#FF6692",
           "#B6E880",
           "#FF97FF",
           "#FECB52"
          ],
          "font": {
           "color": "#2a3f5f"
          },
          "geo": {
           "bgcolor": "white",
           "lakecolor": "white",
           "landcolor": "#E5ECF6",
           "showlakes": true,
           "showland": true,
           "subunitcolor": "white"
          },
          "hoverlabel": {
           "align": "left"
          },
          "hovermode": "closest",
          "mapbox": {
           "style": "light"
          },
          "paper_bgcolor": "white",
          "plot_bgcolor": "#E5ECF6",
          "polar": {
           "angularaxis": {
            "gridcolor": "white",
            "linecolor": "white",
            "ticks": ""
           },
           "bgcolor": "#E5ECF6",
           "radialaxis": {
            "gridcolor": "white",
            "linecolor": "white",
            "ticks": ""
           }
          },
          "scene": {
           "xaxis": {
            "backgroundcolor": "#E5ECF6",
            "gridcolor": "white",
            "gridwidth": 2,
            "linecolor": "white",
            "showbackground": true,
            "ticks": "",
            "zerolinecolor": "white"
           },
           "yaxis": {
            "backgroundcolor": "#E5ECF6",
            "gridcolor": "white",
            "gridwidth": 2,
            "linecolor": "white",
            "showbackground": true,
            "ticks": "",
            "zerolinecolor": "white"
           },
           "zaxis": {
            "backgroundcolor": "#E5ECF6",
            "gridcolor": "white",
            "gridwidth": 2,
            "linecolor": "white",
            "showbackground": true,
            "ticks": "",
            "zerolinecolor": "white"
           }
          },
          "shapedefaults": {
           "line": {
            "color": "#2a3f5f"
           }
          },
          "ternary": {
           "aaxis": {
            "gridcolor": "white",
            "linecolor": "white",
            "ticks": ""
           },
           "baxis": {
            "gridcolor": "white",
            "linecolor": "white",
            "ticks": ""
           },
           "bgcolor": "#E5ECF6",
           "caxis": {
            "gridcolor": "white",
            "linecolor": "white",
            "ticks": ""
           }
          },
          "title": {
           "x": 0.05
          },
          "xaxis": {
           "automargin": true,
           "gridcolor": "white",
           "linecolor": "white",
           "ticks": "",
           "title": {
            "standoff": 15
           },
           "zerolinecolor": "white",
           "zerolinewidth": 2
          },
          "yaxis": {
           "automargin": true,
           "gridcolor": "white",
           "linecolor": "white",
           "ticks": "",
           "title": {
            "standoff": 15
           },
           "zerolinecolor": "white",
           "zerolinewidth": 2
          }
         }
        },
        "title": {
         "text": "Most Followed Films (Bubble Size = Fans)"
        },
        "xaxis": {
         "anchor": "y",
         "categoryarray": [
          "Interstellar",
          "La La Land",
          "Dead Poets Society",
          "Eternal Sunshine of the Spotless Mind",
          "Everything Everywhere All at Once",
          "Little Women",
          "Fight Club",
          "Whiplash",
          "10 Things I Hate About You",
          "Parasite"
         ],
         "categoryorder": "array",
         "domain": [
          0,
          1
         ],
         "title": {
          "text": "Film_title"
         }
        },
        "yaxis": {
         "anchor": "x",
         "domain": [
          0,
          1
         ],
         "title": {
          "text": "Fans"
         }
        }
       }
      }
     },
     "metadata": {},
     "output_type": "display_data"
    }
   ],
   "source": [
    "fig2= px.scatter(top_fans, x= 'Film_title', y= 'Fans', \n",
    "                 size= 'Fans', title= 'Most Followed Films (Bubble Size = Fans)', \n",
    "                 color = 'Film_title')\n",
    "\n",
    "fig2.update_layout(showlegend=False)\n",
    "fig2.show()"
   ]
  },
  {
   "cell_type": "code",
   "execution_count": 31,
   "id": "1682012b",
   "metadata": {},
   "outputs": [],
   "source": [
    "## Films with High Ratings and High Watches\t\n",
    "high_rating_watches = df[\n",
    "    (df['Average_rating'] >= 4.0) &\n",
    "    (df['Watches'] >= 1000000)\n",
    "]"
   ]
  },
  {
   "cell_type": "code",
   "execution_count": 32,
   "id": "d6131343",
   "metadata": {},
   "outputs": [
    {
     "data": {
      "application/vnd.plotly.v1+json": {
       "config": {
        "plotlyServerURL": "https://plot.ly"
       },
       "data": [
        {
         "hovertemplate": "<b>%{hovertext}</b><br><br>Watches=%{x}<br>Average_rating=%{marker.color}<br>Likes=%{marker.size}<extra></extra>",
         "hovertext": [
          "Mad Max: Fury Road",
          "Star Wars",
          "Get Out",
          "Up",
          "Blade Runner",
          "The Truman Show",
          "Whiplash",
          "Django Unchained",
          "Stand by Me",
          "The Lion King",
          "My Neighbor Totoro",
          "Moonlight",
          "Pulp Fiction",
          "The Lord of the Rings: The Fellowship of the Ring",
          "Oldboy",
          "Spirited Away",
          "Birdman or (The Unexpected Virtue of Ignorance)",
          "Casino Royale",
          "La La Land",
          "The Empire Strikes Back",
          "Apocalypse Now",
          "Terminator 2: Judgment Day",
          "The Dark Knight",
          "Kill Bill: Vol. 1",
          "Memento",
          "Die Hard",
          "Saving Private Ryan",
          "Taxi Driver",
          "Gone Girl",
          "Logan",
          "Interstellar",
          "Aliens",
          "Raiders of the Lost Ark",
          "No Country for Old Men",
          "12 Angry Men",
          "The Shawshank Redemption",
          "Fight Club",
          "Requiem for a Dream",
          "Kill Bill: Vol. 2",
          "Howl's Moving Castle",
          "Brokeback Mountain",
          "Jurassic Park",
          "The Godfather Part II",
          "Catch Me If You Can",
          "A Clockwork Orange",
          "Princess Mononoke",
          "How to Train Your Dragon",
          "Trainspotting",
          "Moonrise Kingdom",
          "Shrek 2",
          "Indiana Jones and the Last Crusade",
          "Nightcrawler",
          "Reservoir Dogs",
          "The Princess Bride",
          "The Sixth Sense",
          "10 Things I Hate About You",
          "The Prestige",
          "Mulan",
          "Pan's Labyrinth",
          "Forrest Gump",
          "Fargo",
          "Eyes Wide Shut",
          "The Shining",
          "The Silence of the Lambs",
          "There Will Be Blood",
          "One Flew Over the Cuckoo's Nest",
          "Pride & Prejudice",
          "Harry Potter and the Prisoner of Azkaban",
          "Arrival",
          "Inception",
          "Zodiac",
          "Coraline",
          "The Big Lebowski",
          "Alien",
          "The Royal Tenenbaums",
          "Scream",
          "Ponyo",
          "Toy Story 3",
          "Monsters, Inc.",
          "Hot Fuzz",
          "The Matrix",
          "Ratatouille",
          "Finding Nemo",
          "Inglourious Basterds",
          "Little Miss Sunshine",
          "Léon: The Professional",
          "Eternal Sunshine of the Spotless Mind",
          "Prisoners",
          "Black Swan",
          "2001: A Space Odyssey",
          "The Green Mile",
          "GoodFellas",
          "Toy Story",
          "City of God",
          "Amélie",
          "Perfect Blue",
          "The Thing",
          "Se7en",
          "Lilo & Stitch",
          "Full Metal Jacket",
          "WALL·E",
          "About Time",
          "Schindler's List",
          "The Godfather",
          "Scarface",
          "Before Sunrise",
          "Rocky",
          "Kiki's Delivery Service",
          "Coco",
          "The Florida Project",
          "Three Billboards Outside Ebbing, Missouri",
          "The Grand Budapest Hotel",
          "Dead Poets Society",
          "Fantastic Mr. Fox",
          "Psycho",
          "When Harry Met Sally...",
          "Good Will Hunting",
          "The Incredibles",
          "Mulholland Drive",
          "Isle of Dogs",
          "The Favourite",
          "Your Name.",
          "The Departed",
          "Jojo Rabbit",
          "Parasite",
          "1917",
          "The Lighthouse",
          "Portrait of a Lady on Fire",
          "Marriage Story",
          "The Queen's Gambit",
          "Everything Everywhere All at Once",
          "The Banshees of Inisherin",
          "Aftersun",
          "Puss in Boots: The Last Wish",
          "Little Women",
          "Spider-Man: Into the Spider-Verse",
          "Past Lives",
          "Oppenheimer",
          "Spider-Man: Across the Spider-Verse",
          "The Holdovers"
         ],
         "legendgroup": "",
         "marker": {
          "color": {
           "bdata": "uB6F61G4EECuR+F6FK4QQJqZmZmZmRBAZmZmZmZmEEBmZmZmZmYQQOF6FK5H4RBArkfhehSuEUAzMzMzMzMRQKRwPQrXoxBA4XoUrkfhEEDD9Shcj8IQQM3MzMzMzBBAAAAAAAAAEUCF61G4HoURQIXrUbgehRFAzczMzMzMEUAAAAAAAAAQQBSuR+F6FBBAexSuR+F6EECamZmZmZkRQMP1KFyPwhFAKVyPwvUoEUDsUbgehesRQM3MzMzMzBBArkfhehSuEEA9CtejcD0QQPYoXI/C9RBAj8L1KFyPEEBI4XoUrkcQQHsUrkfhehBApHA9CtejEUB7FK5H4XoQQKRwPQrXoxBASOF6FK5HEUCF61G4HoUSQEjhehSuRxJAFK5H4XoUEUBmZmZmZmYQQFK4HoXrURBAXI/C9ShcEUCF61G4HoUQQHE9CtejcBBAXI/C9ShcEkApXI/C9SgQQHE9CtejcBBAhetRuB6FEUBI4XoUrkcQQNejcD0K1xBAFK5H4XoUEEBmZmZmZmYQQGZmZmZmZhBAKVyPwvUoEECamZmZmZkQQEjhehSuRxBAPQrXo3A9EEAfhetRuB4QQAAAAAAAABFAexSuR+F6EECkcD0K16MQQJqZmZmZmRBAw/UoXI/CEEAAAAAAAAAQQOxRuB6F6xBAXI/C9ShcEUDXo3A9CtcRQHE9CtejcBFAexSuR+F6EEB7FK5H4XoQQIXrUbgehRBA16NwPQrXEEAUrkfhehQQQLgehetRuBBAexSuR+F6EEAK16NwPQoRQHE9CtejcBBAFK5H4XoUEEBcj8L1KFwQQAAAAAAAABBAUrgehetREEBSuB6F61EQQK5H4XoUrhBA4XoUrkfhEEApXI/C9SgQQGZmZmZmZhFAw/UoXI/CEEAUrkfhehQQQPYoXI/C9RBAPQrXo3A9EUCkcD0K16MQQB+F61G4HhFAAAAAAAAAEUDhehSuR+ERQHsUrkfhehBAKVyPwvUoEkC4HoXrUbgQQI/C9ShcjxFAZmZmZmZmEUBmZmZmZmYRQBSuR+F6FBBA16NwPQrXEEDhehSuR+EQQClcj8L1KBBAH4XrUbgeEkApXI/C9SgSQIXrUbgehRBASOF6FK5HEUBcj8L1KFwQQI/C9ShcjxBAexSuR+F6EEBmZmZmZmYQQDMzMzMzMxBA9ihcj8L1EEA9CtejcD0RQB+F61G4HhFASOF6FK5HEUA9CtejcD0QQFyPwvUoXBFASOF6FK5HEEAK16NwPQoRQArXo3A9ChBAFK5H4XoUEEDhehSuR+EQQEjhehSuRxFAH4XrUbgeEEAzMzMzMzMSQHE9CtejcBBAFK5H4XoUEEC4HoXrUbgRQAAAAAAAABBA7FG4HoXrEEAfhetRuB4RQHE9CtejcBBA4XoUrkfhEECPwvUoXI8QQK5H4XoUrhBApHA9CtejEUCuR+F6FK4QQMP1KFyPwhBArkfhehSuEUD2KFyPwvUQQA==",
           "dtype": "f8"
          },
          "coloraxis": "coloraxis",
          "size": {
           "bdata": "MicOABgkEABmfxwA/1YRAFLACABsHRsAnTUcAHSYEwCSfgYAUr0LANFPDACVTgkAehwdAJZ7EQCU9AcAjFIaABuXBgAeYwQAmzQeAKcdDgCIoQUAqpMFAAtPHgBqKxIAfOoJAIh2BgDaTAcArfQMAHe+EgDHCgkAhuEkAHcgBQCifQcAEl4LACMhCABhSRAAFXwjAGUPCABRZQgAg5YQAB0YCAABiQwA1/8HAHJLCwBoXwgAh14KADGUCACdNgcAOzwHAMxSCgBdrAQA0JgJAOVICQCBkwYAG1EGANdVFgAdPgkAEgEHAM8mBgBQcRYAxDYHAH6GBQDwQBQAUOYRANcDBwCagAUAPRYLAIC4EAB/wQ4AokwaADYVCQBaDhEAwbgHAINgCwBz+QUAp1wMAFRcBwCM/gcAFqAMAELeBQC9CREAzFQWAPFfDAAkohUA5iwNAIzxBwCLqBYA0jYLAMNmEgBFzggAdQ4GAHeGDABf5wwA42oGADOLCADxCQcA5a4HACPbEwByUgUAiVoFACCvEACtKQgAk7YHAJRfEAD2iQcAdtIIABWRBAAWMQcALGYRAIZiBgDFrgQA6NsUAEB3EgAhjREAGDUIAIzmBQANBhAAJ9AMAIq0BgB0kQYApjgFAEV0CAC7KQgAkGIOAD2rKQBK7AoAlhcJAJ6yBwB8RggA4LYGAI1rHADt5QYApzEJAFE/CgDiOBMAnbohAEeUCQC0whUATjsXAAb2CAA=",
           "dtype": "i4"
          },
          "sizemode": "area",
          "sizeref": 6827.0325,
          "symbol": "circle"
         },
         "mode": "markers",
         "name": "",
         "orientation": "v",
         "showlegend": false,
         "type": "scatter",
         "x": {
          "bdata": "kfklALD+LQDJxUIAJdk7AN1PGQBj4EIAY+Y7AJFuMgCoyREADtwtAEpjIACwzBgAY+9CAOmhMADmUBUAwJE4AOBcFgD5UhEA1ghDAG7DJwDDZRAAPuoRAOt7RACQVC8AgREeACUAFgBEBxoAtIokAPDYMgDIdRsA+/pMAPbHDwB2wxkALk0fAE8IFACmpCkAijRNAKE6GQDS3RoA/DElAGymFgAaqCoA5PMVAIjbJQCvmBkAxGUZAB5TIACujRQAom0UAKhHKADs4REAv1ocABtkGwBErBIA+1YXANKPMwCnpRsAt6MaAG3eEgB0bEAATWoVAFYgEgAEnDMAlJIuANCxEgDHDhEAb+cbAMLeNQDQCSgAwgVCACBCHgD2HysA2u4WAM5IHwA+nRAAIPYgACR3FABRUiUAgLwxALLlEQCj/zEAtAVBANYaNAAxczQAQEYhAL2lGAAXlzMAh/cdAL5oLwAcuxgAJdwUABavHwAvjzMAI9IPALo8FwCBeg8AzKwSAJHLMQAe0BUAkHARAAUoNACwdRYAg6sYACw6KQBVVRcAvFsUABHyEACYHRMAI8gyANpEEABfbQ8ApNIwAE3UKQDVCCgAxucXADcoEQAbfCkAMqkxADvlEQAK2REAv5sQAHthFgCsahgAmA8lAAGGTACbxB8A7a8YAOxLEACKrhkAAFMUAKbhOQA+LxMAt9YUAKfFGgCkgioACdhDAP7zFgB6TTgAR9svAM2iFAA=",
          "dtype": "i4"
         },
         "xaxis": "x",
         "y": {
          "bdata": "uB6F61G4EECuR+F6FK4QQJqZmZmZmRBAZmZmZmZmEEBmZmZmZmYQQOF6FK5H4RBArkfhehSuEUAzMzMzMzMRQKRwPQrXoxBA4XoUrkfhEEDD9Shcj8IQQM3MzMzMzBBAAAAAAAAAEUCF61G4HoURQIXrUbgehRFAzczMzMzMEUAAAAAAAAAQQBSuR+F6FBBAexSuR+F6EECamZmZmZkRQMP1KFyPwhFAKVyPwvUoEUDsUbgehesRQM3MzMzMzBBArkfhehSuEEA9CtejcD0QQPYoXI/C9RBAj8L1KFyPEEBI4XoUrkcQQHsUrkfhehBApHA9CtejEUB7FK5H4XoQQKRwPQrXoxBASOF6FK5HEUCF61G4HoUSQEjhehSuRxJAFK5H4XoUEUBmZmZmZmYQQFK4HoXrURBAXI/C9ShcEUCF61G4HoUQQHE9CtejcBBAXI/C9ShcEkApXI/C9SgQQHE9CtejcBBAhetRuB6FEUBI4XoUrkcQQNejcD0K1xBAFK5H4XoUEEBmZmZmZmYQQGZmZmZmZhBAKVyPwvUoEECamZmZmZkQQEjhehSuRxBAPQrXo3A9EEAfhetRuB4QQAAAAAAAABFAexSuR+F6EECkcD0K16MQQJqZmZmZmRBAw/UoXI/CEEAAAAAAAAAQQOxRuB6F6xBAXI/C9ShcEUDXo3A9CtcRQHE9CtejcBFAexSuR+F6EEB7FK5H4XoQQIXrUbgehRBA16NwPQrXEEAUrkfhehQQQLgehetRuBBAexSuR+F6EEAK16NwPQoRQHE9CtejcBBAFK5H4XoUEEBcj8L1KFwQQAAAAAAAABBAUrgehetREEBSuB6F61EQQK5H4XoUrhBA4XoUrkfhEEApXI/C9SgQQGZmZmZmZhFAw/UoXI/CEEAUrkfhehQQQPYoXI/C9RBAPQrXo3A9EUCkcD0K16MQQB+F61G4HhFAAAAAAAAAEUDhehSuR+ERQHsUrkfhehBAKVyPwvUoEkC4HoXrUbgQQI/C9ShcjxFAZmZmZmZmEUBmZmZmZmYRQBSuR+F6FBBA16NwPQrXEEDhehSuR+EQQClcj8L1KBBAH4XrUbgeEkApXI/C9SgSQIXrUbgehRBASOF6FK5HEUBcj8L1KFwQQI/C9ShcjxBAexSuR+F6EEBmZmZmZmYQQDMzMzMzMxBA9ihcj8L1EEA9CtejcD0RQB+F61G4HhFASOF6FK5HEUA9CtejcD0QQFyPwvUoXBFASOF6FK5HEEAK16NwPQoRQArXo3A9ChBAFK5H4XoUEEDhehSuR+EQQEjhehSuRxFAH4XrUbgeEEAzMzMzMzMSQHE9CtejcBBAFK5H4XoUEEC4HoXrUbgRQAAAAAAAABBA7FG4HoXrEEAfhetRuB4RQHE9CtejcBBA4XoUrkfhEECPwvUoXI8QQK5H4XoUrhBApHA9CtejEUCuR+F6FK4QQMP1KFyPwhBArkfhehSuEUD2KFyPwvUQQA==",
          "dtype": "f8"
         },
         "yaxis": "y"
        }
       ],
       "layout": {
        "coloraxis": {
         "colorbar": {
          "title": {
           "text": "Average_rating"
          }
         },
         "colorscale": [
          [
           0,
           "#440154"
          ],
          [
           0.1111111111111111,
           "#482878"
          ],
          [
           0.2222222222222222,
           "#3e4989"
          ],
          [
           0.3333333333333333,
           "#31688e"
          ],
          [
           0.4444444444444444,
           "#26828e"
          ],
          [
           0.5555555555555556,
           "#1f9e89"
          ],
          [
           0.6666666666666666,
           "#35b779"
          ],
          [
           0.7777777777777778,
           "#6ece58"
          ],
          [
           0.8888888888888888,
           "#b5de2b"
          ],
          [
           1,
           "#fde725"
          ]
         ]
        },
        "height": 600,
        "legend": {
         "itemsizing": "constant",
         "tracegroupgap": 0
        },
        "template": {
         "data": {
          "bar": [
           {
            "error_x": {
             "color": "#2a3f5f"
            },
            "error_y": {
             "color": "#2a3f5f"
            },
            "marker": {
             "line": {
              "color": "#E5ECF6",
              "width": 0.5
             },
             "pattern": {
              "fillmode": "overlay",
              "size": 10,
              "solidity": 0.2
             }
            },
            "type": "bar"
           }
          ],
          "barpolar": [
           {
            "marker": {
             "line": {
              "color": "#E5ECF6",
              "width": 0.5
             },
             "pattern": {
              "fillmode": "overlay",
              "size": 10,
              "solidity": 0.2
             }
            },
            "type": "barpolar"
           }
          ],
          "carpet": [
           {
            "aaxis": {
             "endlinecolor": "#2a3f5f",
             "gridcolor": "white",
             "linecolor": "white",
             "minorgridcolor": "white",
             "startlinecolor": "#2a3f5f"
            },
            "baxis": {
             "endlinecolor": "#2a3f5f",
             "gridcolor": "white",
             "linecolor": "white",
             "minorgridcolor": "white",
             "startlinecolor": "#2a3f5f"
            },
            "type": "carpet"
           }
          ],
          "choropleth": [
           {
            "colorbar": {
             "outlinewidth": 0,
             "ticks": ""
            },
            "type": "choropleth"
           }
          ],
          "contour": [
           {
            "colorbar": {
             "outlinewidth": 0,
             "ticks": ""
            },
            "colorscale": [
             [
              0,
              "#0d0887"
             ],
             [
              0.1111111111111111,
              "#46039f"
             ],
             [
              0.2222222222222222,
              "#7201a8"
             ],
             [
              0.3333333333333333,
              "#9c179e"
             ],
             [
              0.4444444444444444,
              "#bd3786"
             ],
             [
              0.5555555555555556,
              "#d8576b"
             ],
             [
              0.6666666666666666,
              "#ed7953"
             ],
             [
              0.7777777777777778,
              "#fb9f3a"
             ],
             [
              0.8888888888888888,
              "#fdca26"
             ],
             [
              1,
              "#f0f921"
             ]
            ],
            "type": "contour"
           }
          ],
          "contourcarpet": [
           {
            "colorbar": {
             "outlinewidth": 0,
             "ticks": ""
            },
            "type": "contourcarpet"
           }
          ],
          "heatmap": [
           {
            "colorbar": {
             "outlinewidth": 0,
             "ticks": ""
            },
            "colorscale": [
             [
              0,
              "#0d0887"
             ],
             [
              0.1111111111111111,
              "#46039f"
             ],
             [
              0.2222222222222222,
              "#7201a8"
             ],
             [
              0.3333333333333333,
              "#9c179e"
             ],
             [
              0.4444444444444444,
              "#bd3786"
             ],
             [
              0.5555555555555556,
              "#d8576b"
             ],
             [
              0.6666666666666666,
              "#ed7953"
             ],
             [
              0.7777777777777778,
              "#fb9f3a"
             ],
             [
              0.8888888888888888,
              "#fdca26"
             ],
             [
              1,
              "#f0f921"
             ]
            ],
            "type": "heatmap"
           }
          ],
          "histogram": [
           {
            "marker": {
             "pattern": {
              "fillmode": "overlay",
              "size": 10,
              "solidity": 0.2
             }
            },
            "type": "histogram"
           }
          ],
          "histogram2d": [
           {
            "colorbar": {
             "outlinewidth": 0,
             "ticks": ""
            },
            "colorscale": [
             [
              0,
              "#0d0887"
             ],
             [
              0.1111111111111111,
              "#46039f"
             ],
             [
              0.2222222222222222,
              "#7201a8"
             ],
             [
              0.3333333333333333,
              "#9c179e"
             ],
             [
              0.4444444444444444,
              "#bd3786"
             ],
             [
              0.5555555555555556,
              "#d8576b"
             ],
             [
              0.6666666666666666,
              "#ed7953"
             ],
             [
              0.7777777777777778,
              "#fb9f3a"
             ],
             [
              0.8888888888888888,
              "#fdca26"
             ],
             [
              1,
              "#f0f921"
             ]
            ],
            "type": "histogram2d"
           }
          ],
          "histogram2dcontour": [
           {
            "colorbar": {
             "outlinewidth": 0,
             "ticks": ""
            },
            "colorscale": [
             [
              0,
              "#0d0887"
             ],
             [
              0.1111111111111111,
              "#46039f"
             ],
             [
              0.2222222222222222,
              "#7201a8"
             ],
             [
              0.3333333333333333,
              "#9c179e"
             ],
             [
              0.4444444444444444,
              "#bd3786"
             ],
             [
              0.5555555555555556,
              "#d8576b"
             ],
             [
              0.6666666666666666,
              "#ed7953"
             ],
             [
              0.7777777777777778,
              "#fb9f3a"
             ],
             [
              0.8888888888888888,
              "#fdca26"
             ],
             [
              1,
              "#f0f921"
             ]
            ],
            "type": "histogram2dcontour"
           }
          ],
          "mesh3d": [
           {
            "colorbar": {
             "outlinewidth": 0,
             "ticks": ""
            },
            "type": "mesh3d"
           }
          ],
          "parcoords": [
           {
            "line": {
             "colorbar": {
              "outlinewidth": 0,
              "ticks": ""
             }
            },
            "type": "parcoords"
           }
          ],
          "pie": [
           {
            "automargin": true,
            "type": "pie"
           }
          ],
          "scatter": [
           {
            "fillpattern": {
             "fillmode": "overlay",
             "size": 10,
             "solidity": 0.2
            },
            "type": "scatter"
           }
          ],
          "scatter3d": [
           {
            "line": {
             "colorbar": {
              "outlinewidth": 0,
              "ticks": ""
             }
            },
            "marker": {
             "colorbar": {
              "outlinewidth": 0,
              "ticks": ""
             }
            },
            "type": "scatter3d"
           }
          ],
          "scattercarpet": [
           {
            "marker": {
             "colorbar": {
              "outlinewidth": 0,
              "ticks": ""
             }
            },
            "type": "scattercarpet"
           }
          ],
          "scattergeo": [
           {
            "marker": {
             "colorbar": {
              "outlinewidth": 0,
              "ticks": ""
             }
            },
            "type": "scattergeo"
           }
          ],
          "scattergl": [
           {
            "marker": {
             "colorbar": {
              "outlinewidth": 0,
              "ticks": ""
             }
            },
            "type": "scattergl"
           }
          ],
          "scattermap": [
           {
            "marker": {
             "colorbar": {
              "outlinewidth": 0,
              "ticks": ""
             }
            },
            "type": "scattermap"
           }
          ],
          "scattermapbox": [
           {
            "marker": {
             "colorbar": {
              "outlinewidth": 0,
              "ticks": ""
             }
            },
            "type": "scattermapbox"
           }
          ],
          "scatterpolar": [
           {
            "marker": {
             "colorbar": {
              "outlinewidth": 0,
              "ticks": ""
             }
            },
            "type": "scatterpolar"
           }
          ],
          "scatterpolargl": [
           {
            "marker": {
             "colorbar": {
              "outlinewidth": 0,
              "ticks": ""
             }
            },
            "type": "scatterpolargl"
           }
          ],
          "scatterternary": [
           {
            "marker": {
             "colorbar": {
              "outlinewidth": 0,
              "ticks": ""
             }
            },
            "type": "scatterternary"
           }
          ],
          "surface": [
           {
            "colorbar": {
             "outlinewidth": 0,
             "ticks": ""
            },
            "colorscale": [
             [
              0,
              "#0d0887"
             ],
             [
              0.1111111111111111,
              "#46039f"
             ],
             [
              0.2222222222222222,
              "#7201a8"
             ],
             [
              0.3333333333333333,
              "#9c179e"
             ],
             [
              0.4444444444444444,
              "#bd3786"
             ],
             [
              0.5555555555555556,
              "#d8576b"
             ],
             [
              0.6666666666666666,
              "#ed7953"
             ],
             [
              0.7777777777777778,
              "#fb9f3a"
             ],
             [
              0.8888888888888888,
              "#fdca26"
             ],
             [
              1,
              "#f0f921"
             ]
            ],
            "type": "surface"
           }
          ],
          "table": [
           {
            "cells": {
             "fill": {
              "color": "#EBF0F8"
             },
             "line": {
              "color": "white"
             }
            },
            "header": {
             "fill": {
              "color": "#C8D4E3"
             },
             "line": {
              "color": "white"
             }
            },
            "type": "table"
           }
          ]
         },
         "layout": {
          "annotationdefaults": {
           "arrowcolor": "#2a3f5f",
           "arrowhead": 0,
           "arrowwidth": 1
          },
          "autotypenumbers": "strict",
          "coloraxis": {
           "colorbar": {
            "outlinewidth": 0,
            "ticks": ""
           }
          },
          "colorscale": {
           "diverging": [
            [
             0,
             "#8e0152"
            ],
            [
             0.1,
             "#c51b7d"
            ],
            [
             0.2,
             "#de77ae"
            ],
            [
             0.3,
             "#f1b6da"
            ],
            [
             0.4,
             "#fde0ef"
            ],
            [
             0.5,
             "#f7f7f7"
            ],
            [
             0.6,
             "#e6f5d0"
            ],
            [
             0.7,
             "#b8e186"
            ],
            [
             0.8,
             "#7fbc41"
            ],
            [
             0.9,
             "#4d9221"
            ],
            [
             1,
             "#276419"
            ]
           ],
           "sequential": [
            [
             0,
             "#0d0887"
            ],
            [
             0.1111111111111111,
             "#46039f"
            ],
            [
             0.2222222222222222,
             "#7201a8"
            ],
            [
             0.3333333333333333,
             "#9c179e"
            ],
            [
             0.4444444444444444,
             "#bd3786"
            ],
            [
             0.5555555555555556,
             "#d8576b"
            ],
            [
             0.6666666666666666,
             "#ed7953"
            ],
            [
             0.7777777777777778,
             "#fb9f3a"
            ],
            [
             0.8888888888888888,
             "#fdca26"
            ],
            [
             1,
             "#f0f921"
            ]
           ],
           "sequentialminus": [
            [
             0,
             "#0d0887"
            ],
            [
             0.1111111111111111,
             "#46039f"
            ],
            [
             0.2222222222222222,
             "#7201a8"
            ],
            [
             0.3333333333333333,
             "#9c179e"
            ],
            [
             0.4444444444444444,
             "#bd3786"
            ],
            [
             0.5555555555555556,
             "#d8576b"
            ],
            [
             0.6666666666666666,
             "#ed7953"
            ],
            [
             0.7777777777777778,
             "#fb9f3a"
            ],
            [
             0.8888888888888888,
             "#fdca26"
            ],
            [
             1,
             "#f0f921"
            ]
           ]
          },
          "colorway": [
           "#636efa",
           "#EF553B",
           "#00cc96",
           "#ab63fa",
           "#FFA15A",
           "#19d3f3",
           "#FF6692",
           "#B6E880",
           "#FF97FF",
           "#FECB52"
          ],
          "font": {
           "color": "#2a3f5f"
          },
          "geo": {
           "bgcolor": "white",
           "lakecolor": "white",
           "landcolor": "#E5ECF6",
           "showlakes": true,
           "showland": true,
           "subunitcolor": "white"
          },
          "hoverlabel": {
           "align": "left"
          },
          "hovermode": "closest",
          "mapbox": {
           "style": "light"
          },
          "paper_bgcolor": "white",
          "plot_bgcolor": "#E5ECF6",
          "polar": {
           "angularaxis": {
            "gridcolor": "white",
            "linecolor": "white",
            "ticks": ""
           },
           "bgcolor": "#E5ECF6",
           "radialaxis": {
            "gridcolor": "white",
            "linecolor": "white",
            "ticks": ""
           }
          },
          "scene": {
           "xaxis": {
            "backgroundcolor": "#E5ECF6",
            "gridcolor": "white",
            "gridwidth": 2,
            "linecolor": "white",
            "showbackground": true,
            "ticks": "",
            "zerolinecolor": "white"
           },
           "yaxis": {
            "backgroundcolor": "#E5ECF6",
            "gridcolor": "white",
            "gridwidth": 2,
            "linecolor": "white",
            "showbackground": true,
            "ticks": "",
            "zerolinecolor": "white"
           },
           "zaxis": {
            "backgroundcolor": "#E5ECF6",
            "gridcolor": "white",
            "gridwidth": 2,
            "linecolor": "white",
            "showbackground": true,
            "ticks": "",
            "zerolinecolor": "white"
           }
          },
          "shapedefaults": {
           "line": {
            "color": "#2a3f5f"
           }
          },
          "ternary": {
           "aaxis": {
            "gridcolor": "white",
            "linecolor": "white",
            "ticks": ""
           },
           "baxis": {
            "gridcolor": "white",
            "linecolor": "white",
            "ticks": ""
           },
           "bgcolor": "#E5ECF6",
           "caxis": {
            "gridcolor": "white",
            "linecolor": "white",
            "ticks": ""
           }
          },
          "title": {
           "x": 0.05
          },
          "xaxis": {
           "automargin": true,
           "gridcolor": "white",
           "linecolor": "white",
           "ticks": "",
           "title": {
            "standoff": 15
           },
           "zerolinecolor": "white",
           "zerolinewidth": 2
          },
          "yaxis": {
           "automargin": true,
           "gridcolor": "white",
           "linecolor": "white",
           "ticks": "",
           "title": {
            "standoff": 15
           },
           "zerolinecolor": "white",
           "zerolinewidth": 2
          }
         }
        },
        "title": {
         "text": "Films by Rating and Number of Watches"
        },
        "width": 900,
        "xaxis": {
         "anchor": "y",
         "domain": [
          0,
          1
         ],
         "title": {
          "text": "Watches"
         }
        },
        "yaxis": {
         "anchor": "x",
         "domain": [
          0,
          1
         ],
         "title": {
          "text": "Average_rating"
         }
        }
       }
      }
     },
     "metadata": {},
     "output_type": "display_data"
    }
   ],
   "source": [
    "fig3 = px.scatter(\n",
    "    high_rating_watches,\n",
    "    x='Watches',\n",
    "    y='Average_rating',\n",
    "    size='Likes', \n",
    "    hover_name='Film_title',\n",
    "    title='Films by Rating and Number of Watches',\n",
    "    color='Average_rating',\n",
    "    color_continuous_scale='Viridis'\n",
    ")\n",
    "fig3.update_layout(width=900, height=600)\n",
    "fig3.show()"
   ]
  },
  {
   "cell_type": "code",
   "execution_count": 33,
   "id": "a8be4ec5",
   "metadata": {},
   "outputs": [
    {
     "name": "stdout",
     "output_type": "stream",
     "text": [
      "False\n"
     ]
    }
   ],
   "source": [
    "is_list = isinstance(df.loc[0, 'Genres'], list)\n",
    "print(is_list) "
   ]
  },
  {
   "cell_type": "code",
   "execution_count": 34,
   "metadata": {},
   "outputs": [],
   "source": [
    "import ast\n",
    "\n",
    "def try_eval(x):\n",
    "    try:\n",
    "        return ast.literal_eval(x) if isinstance(x, str) else x\n",
    "    except:\n",
    "        return x \n",
    "df['Genres'] = df['Genres'].apply(try_eval)"
   ]
  },
  {
   "cell_type": "code",
   "execution_count": 36,
   "metadata": {},
   "outputs": [
    {
     "data": {
      "text/html": [
       "<div>\n",
       "<style scoped>\n",
       "    .dataframe tbody tr th:only-of-type {\n",
       "        vertical-align: middle;\n",
       "    }\n",
       "\n",
       "    .dataframe tbody tr th {\n",
       "        vertical-align: top;\n",
       "    }\n",
       "\n",
       "    .dataframe thead th {\n",
       "        text-align: right;\n",
       "    }\n",
       "</style>\n",
       "<table border=\"1\" class=\"dataframe\">\n",
       "  <thead>\n",
       "    <tr style=\"text-align: right;\">\n",
       "      <th></th>\n",
       "      <th>Film_title</th>\n",
       "      <th>Director</th>\n",
       "      <th>Average_rating</th>\n",
       "      <th>Genres</th>\n",
       "      <th>Runtime</th>\n",
       "      <th>Original_language</th>\n",
       "      <th>Studios</th>\n",
       "      <th>Watches</th>\n",
       "      <th>List_appearances</th>\n",
       "      <th>Likes</th>\n",
       "      <th>Fans</th>\n",
       "      <th>Lowest</th>\n",
       "      <th>Medium</th>\n",
       "      <th>Highest</th>\n",
       "      <th>Total_ratings</th>\n",
       "    </tr>\n",
       "  </thead>\n",
       "  <tbody>\n",
       "    <tr>\n",
       "      <th>9111</th>\n",
       "      <td>The Fallout</td>\n",
       "      <td>Megan Park</td>\n",
       "      <td>3.5</td>\n",
       "      <td>[Drama]</td>\n",
       "      <td>96.0</td>\n",
       "      <td>English</td>\n",
       "      <td>['Clear Horizon Entertainment', 'SSS Entertain...</td>\n",
       "      <td>311631</td>\n",
       "      <td>50163</td>\n",
       "      <td>83789</td>\n",
       "      <td>2400</td>\n",
       "      <td>2527</td>\n",
       "      <td>45250</td>\n",
       "      <td>27649</td>\n",
       "      <td>242961</td>\n",
       "    </tr>\n",
       "  </tbody>\n",
       "</table>\n",
       "</div>"
      ],
      "text/plain": [
       "       Film_title    Director  Average_rating   Genres  Runtime  \\\n",
       "9111  The Fallout  Megan Park             3.5  [Drama]     96.0   \n",
       "\n",
       "     Original_language                                            Studios  \\\n",
       "9111           English  ['Clear Horizon Entertainment', 'SSS Entertain...   \n",
       "\n",
       "      Watches  List_appearances  Likes  Fans  Lowest  Medium  Highest  \\\n",
       "9111   311631             50163  83789  2400    2527   45250    27649   \n",
       "\n",
       "      Total_ratings  \n",
       "9111         242961  "
      ]
     },
     "execution_count": 36,
     "metadata": {},
     "output_type": "execute_result"
    }
   ],
   "source": [
    "df.sample(1)"
   ]
  },
  {
   "cell_type": "code",
   "execution_count": 37,
   "id": "843d67a2",
   "metadata": {},
   "outputs": [],
   "source": [
    "from sklearn.preprocessing import MultiLabelBinarizer\n",
    "\n",
    "mlb = MultiLabelBinarizer()\n",
    "genre_dummies = pd.DataFrame(mlb.fit_transform(df['Genres']), columns=mlb.classes_)\n",
    "\n",
    "df = df.join(genre_dummies)"
   ]
  },
  {
   "cell_type": "code",
   "execution_count": 38,
   "id": "c0588074",
   "metadata": {},
   "outputs": [
    {
     "data": {
      "text/html": [
       "<div>\n",
       "<style scoped>\n",
       "    .dataframe tbody tr th:only-of-type {\n",
       "        vertical-align: middle;\n",
       "    }\n",
       "\n",
       "    .dataframe tbody tr th {\n",
       "        vertical-align: top;\n",
       "    }\n",
       "\n",
       "    .dataframe thead th {\n",
       "        text-align: right;\n",
       "    }\n",
       "</style>\n",
       "<table border=\"1\" class=\"dataframe\">\n",
       "  <thead>\n",
       "    <tr style=\"text-align: right;\">\n",
       "      <th></th>\n",
       "      <th>Film_title</th>\n",
       "      <th>Director</th>\n",
       "      <th>Average_rating</th>\n",
       "      <th>Genres</th>\n",
       "      <th>Runtime</th>\n",
       "      <th>Original_language</th>\n",
       "      <th>Studios</th>\n",
       "      <th>Watches</th>\n",
       "      <th>List_appearances</th>\n",
       "      <th>Likes</th>\n",
       "      <th>Fans</th>\n",
       "      <th>Lowest</th>\n",
       "      <th>Medium</th>\n",
       "      <th>Highest</th>\n",
       "      <th>Total_ratings</th>\n",
       "      <th>Action</th>\n",
       "      <th>Adventure</th>\n",
       "      <th>Animation</th>\n",
       "      <th>Captivating vision and Shakespearean drama</th>\n",
       "      <th>Comedy</th>\n",
       "      <th>Crime</th>\n",
       "      <th>Documentary</th>\n",
       "      <th>Drama</th>\n",
       "      <th>Epic adventure and breathtaking battles</th>\n",
       "      <th>Epic heroes</th>\n",
       "      <th>Epic history and literature</th>\n",
       "      <th>Family</th>\n",
       "      <th>Fantasy</th>\n",
       "      <th>Fantasy adventure, heroism, and swordplay</th>\n",
       "      <th>Historical battles and epic heroism</th>\n",
       "      <th>History</th>\n",
       "      <th>Horror</th>\n",
       "      <th>Music</th>\n",
       "      <th>Mystery</th>\n",
       "      <th>Romance</th>\n",
       "      <th>Science Fiction</th>\n",
       "      <th>Show All…</th>\n",
       "      <th>Superheroes in action-packed battles with villains</th>\n",
       "      <th>TV Movie</th>\n",
       "      <th>Thriller</th>\n",
       "      <th>U</th>\n",
       "      <th>War</th>\n",
       "      <th>Western</th>\n",
       "      <th>k</th>\n",
       "      <th>n</th>\n",
       "      <th>o</th>\n",
       "      <th>w</th>\n",
       "    </tr>\n",
       "  </thead>\n",
       "  <tbody>\n",
       "    <tr>\n",
       "      <th>6728</th>\n",
       "      <td>A Short Film About Love</td>\n",
       "      <td>Krzysztof Kieślowski</td>\n",
       "      <td>4.12</td>\n",
       "      <td>[Romance, Drama]</td>\n",
       "      <td>87.0</td>\n",
       "      <td>Polish</td>\n",
       "      <td>['Studio Filmowe Tor']</td>\n",
       "      <td>69223</td>\n",
       "      <td>20407</td>\n",
       "      <td>21493</td>\n",
       "      <td>786</td>\n",
       "      <td>276</td>\n",
       "      <td>4142</td>\n",
       "      <td>8336</td>\n",
       "      <td>48002</td>\n",
       "      <td>0</td>\n",
       "      <td>0</td>\n",
       "      <td>0</td>\n",
       "      <td>0</td>\n",
       "      <td>0</td>\n",
       "      <td>0</td>\n",
       "      <td>0</td>\n",
       "      <td>1</td>\n",
       "      <td>0</td>\n",
       "      <td>0</td>\n",
       "      <td>0</td>\n",
       "      <td>0</td>\n",
       "      <td>0</td>\n",
       "      <td>0</td>\n",
       "      <td>0</td>\n",
       "      <td>0</td>\n",
       "      <td>0</td>\n",
       "      <td>0</td>\n",
       "      <td>0</td>\n",
       "      <td>1</td>\n",
       "      <td>0</td>\n",
       "      <td>0</td>\n",
       "      <td>0</td>\n",
       "      <td>0</td>\n",
       "      <td>0</td>\n",
       "      <td>0</td>\n",
       "      <td>0</td>\n",
       "      <td>0</td>\n",
       "      <td>0</td>\n",
       "      <td>0</td>\n",
       "      <td>0</td>\n",
       "      <td>0</td>\n",
       "    </tr>\n",
       "  </tbody>\n",
       "</table>\n",
       "</div>"
      ],
      "text/plain": [
       "                   Film_title              Director  Average_rating  \\\n",
       "6728  A Short Film About Love  Krzysztof Kieślowski            4.12   \n",
       "\n",
       "                Genres  Runtime Original_language                 Studios  \\\n",
       "6728  [Romance, Drama]     87.0            Polish  ['Studio Filmowe Tor']   \n",
       "\n",
       "      Watches  List_appearances  Likes  Fans  Lowest  Medium  Highest  \\\n",
       "6728    69223             20407  21493   786     276    4142     8336   \n",
       "\n",
       "      Total_ratings  Action  Adventure  Animation  \\\n",
       "6728          48002       0          0          0   \n",
       "\n",
       "      Captivating vision and Shakespearean drama  Comedy  Crime  Documentary  \\\n",
       "6728                                           0       0      0            0   \n",
       "\n",
       "      Drama  Epic adventure and breathtaking battles  Epic heroes  \\\n",
       "6728      1                                        0            0   \n",
       "\n",
       "      Epic history and literature  Family  Fantasy  \\\n",
       "6728                            0       0        0   \n",
       "\n",
       "      Fantasy adventure, heroism, and swordplay  \\\n",
       "6728                                          0   \n",
       "\n",
       "      Historical battles and epic heroism  History  Horror  Music  Mystery  \\\n",
       "6728                                    0        0       0      0        0   \n",
       "\n",
       "      Romance  Science Fiction  Show All…  \\\n",
       "6728        1                0          0   \n",
       "\n",
       "      Superheroes in action-packed battles with villains  TV Movie  Thriller  \\\n",
       "6728                                                  0          0         0   \n",
       "\n",
       "      U  War  Western  k  n  o  w  \n",
       "6728  0    0        0  0  0  0  0  "
      ]
     },
     "execution_count": 38,
     "metadata": {},
     "output_type": "execute_result"
    }
   ],
   "source": [
    "df.sample(1)"
   ]
  },
  {
   "cell_type": "code",
   "execution_count": 39,
   "id": "56ec6eb0",
   "metadata": {},
   "outputs": [
    {
     "data": {
      "text/plain": [
       "Index(['Film_title', 'Director', 'Average_rating', 'Genres', 'Runtime',\n",
       "       'Original_language', 'Studios', 'Watches', 'List_appearances', 'Likes',\n",
       "       'Fans', 'Lowest', 'Medium', 'Highest', 'Total_ratings', 'Action',\n",
       "       'Adventure', 'Animation', 'Captivating vision and Shakespearean drama',\n",
       "       'Comedy', 'Crime', 'Documentary', 'Drama',\n",
       "       'Epic adventure and breathtaking battles', 'Epic heroes',\n",
       "       'Epic history and literature', 'Family', 'Fantasy',\n",
       "       'Fantasy adventure, heroism, and swordplay',\n",
       "       'Historical battles and epic heroism', 'History', 'Horror', 'Music',\n",
       "       'Mystery', 'Romance', 'Science Fiction', 'Show All…',\n",
       "       'Superheroes in action-packed battles with villains', 'TV Movie',\n",
       "       'Thriller', 'U', 'War', 'Western', 'k', 'n', 'o', 'w'],\n",
       "      dtype='object')"
      ]
     },
     "execution_count": 39,
     "metadata": {},
     "output_type": "execute_result"
    }
   ],
   "source": [
    "df.columns"
   ]
  },
  {
   "cell_type": "code",
   "execution_count": 40,
   "id": "f1d796f6",
   "metadata": {},
   "outputs": [],
   "source": [
    "df.drop(['Captivating vision and Shakespearean drama', 'Epic adventure and breathtaking battles', 'Epic heroes', 'Epic history and literature','Historical battles and epic heroism',\n",
    "         'Show All…', 'Superheroes in action-packed battles with villains', 'U', 'k', 'n', 'o', 'w', 'Fantasy adventure, heroism, and swordplay'], axis=1, inplace= True, errors='ignore')"
   ]
  },
  {
   "cell_type": "code",
   "execution_count": 41,
   "id": "dba18cd0",
   "metadata": {},
   "outputs": [],
   "source": [
    "Valied_genres = ['Action',\n",
    "       'Adventure', 'Animation', 'Comedy', 'Crime', 'Documentary', 'Drama',\n",
    "       'Family', 'Fantasy', 'History', 'Horror', 'Music', 'Mystery', 'Romance',\n",
    "       'Science Fiction', 'TV Movie', 'Thriller', 'War', 'Western']"
   ]
  },
  {
   "cell_type": "code",
   "execution_count": 42,
   "id": "f9af8e95",
   "metadata": {},
   "outputs": [],
   "source": [
    "genres_count= df[Valied_genres].sum().sort_values(ascending=False)"
   ]
  },
  {
   "cell_type": "code",
   "execution_count": 43,
   "id": "0cdfdc67",
   "metadata": {},
   "outputs": [
    {
     "data": {
      "text/plain": [
       "<function matplotlib.pyplot.show(close=None, block=None)>"
      ]
     },
     "execution_count": 43,
     "metadata": {},
     "output_type": "execute_result"
    },
    {
     "data": {
      "image/png": "[encoded data removed]",
      "text/plain": [
       "<Figure size 800x400 with 1 Axes>"
      ]
     },
     "metadata": {},
     "output_type": "display_data"
    }
   ],
   "source": [
    "plt.figure(figsize= (8,4))\n",
    "plt.bar(genres_count.index, genres_count.values, color= 'skyblue')\n",
    "plt.title('Count of diffrent types of genres')\n",
    "plt.xlabel('Genres name')\n",
    "plt.xticks(rotation= 45)\n",
    "plt.tight_layout\n",
    "plt.show"
   ]
  },
  {
   "cell_type": "code",
   "execution_count": null,
   "id": "f22b7f8e",
   "metadata": {},
   "outputs": [],
   "source": [
    "## Most genres are repeated together"
   ]
  },
  {
   "cell_type": "code",
   "execution_count": 44,
   "metadata": {},
   "outputs": [
    {
     "data": {
      "image/png": "[encoded data removed]",
      "text/plain": [
       "<Figure size 1200x600 with 2 Axes>"
      ]
     },
     "metadata": {},
     "output_type": "display_data"
    }
   ],
   "source": [
    "genre_corr = df[Valied_genres].corr()\n",
    "plt.figure(figsize= (12,6))\n",
    "sns.heatmap(genre_corr , cmap='YlGnBu', annot=True, cbar_kws={\"shrink\": 0.8})\n",
    "plt.title('Correlation Between Genres')\n",
    "plt.tight_layout()\n",
    "plt.show()"
   ]
  },
  {
   "cell_type": "code",
   "execution_count": 45,
   "id": "18d4e906",
   "metadata": {},
   "outputs": [],
   "source": [
    "## Known Studios with Most Films\t\n",
    "Studio_filtered = df[df['Studios'] != 'Unknown'] \n",
    "count_studios= Studio_filtered['Studios'].value_counts().sort_values(ascending= False).head(10)"
   ]
  },
  {
   "cell_type": "code",
   "execution_count": 46,
   "id": "73395651",
   "metadata": {},
   "outputs": [
    {
     "data": {
      "application/vnd.plotly.v1+json": {
       "config": {
        "plotlyServerURL": "https://plot.ly"
       },
       "data": [
        {
         "domain": {
          "x": [
           0,
           1
          ],
          "y": [
           0,
           1
          ]
         },
         "hovertemplate": "label=%{label}<br>value=%{value}<extra></extra>",
         "labels": [
          "['Metro-Goldwyn-Mayer']",
          "['Paramount Pictures']",
          "['20th Century Fox']",
          "['Columbia Pictures']",
          "['Universal Pictures']",
          "['Warner Bros. Pictures']",
          "['Walt Disney Productions']",
          "['RKO Radio Pictures']",
          "['Republic Pictures']",
          "['Warner Bros. Pictures', 'Warner Bros. Cartoons']"
         ],
         "legendgroup": "",
         "name": "",
         "showlegend": true,
         "textinfo": "percent+label",
         "type": "pie",
         "values": {
          "bdata": "cGpSSkhFLCgfGw==",
          "dtype": "i1"
         }
        }
       ],
       "layout": {
        "legend": {
         "tracegroupgap": 0
        },
        "piecolorway": [
         "rgb(102, 197, 204)",
         "rgb(246, 207, 113)",
         "rgb(248, 156, 116)",
         "rgb(220, 176, 242)",
         "rgb(135, 197, 95)",
         "rgb(158, 185, 243)",
         "rgb(254, 136, 177)",
         "rgb(201, 219, 116)",
         "rgb(139, 224, 164)",
         "rgb(180, 151, 231)",
         "rgb(179, 179, 179)"
        ],
        "template": {
         "data": {
          "bar": [
           {
            "error_x": {
             "color": "#2a3f5f"
            },
            "error_y": {
             "color": "#2a3f5f"
            },
            "marker": {
             "line": {
              "color": "#E5ECF6",
              "width": 0.5
             },
             "pattern": {
              "fillmode": "overlay",
              "size": 10,
              "solidity": 0.2
             }
            },
            "type": "bar"
           }
          ],
          "barpolar": [
           {
            "marker": {
             "line": {
              "color": "#E5ECF6",
              "width": 0.5
             },
             "pattern": {
              "fillmode": "overlay",
              "size": 10,
              "solidity": 0.2
             }
            },
            "type": "barpolar"
           }
          ],
          "carpet": [
           {
            "aaxis": {
             "endlinecolor": "#2a3f5f",
             "gridcolor": "white",
             "linecolor": "white",
             "minorgridcolor": "white",
             "startlinecolor": "#2a3f5f"
            },
            "baxis": {
             "endlinecolor": "#2a3f5f",
             "gridcolor": "white",
             "linecolor": "white",
             "minorgridcolor": "white",
             "startlinecolor": "#2a3f5f"
            },
            "type": "carpet"
           }
          ],
          "choropleth": [
           {
            "colorbar": {
             "outlinewidth": 0,
             "ticks": ""
            },
            "type": "choropleth"
           }
          ],
          "contour": [
           {
            "colorbar": {
             "outlinewidth": 0,
             "ticks": ""
            },
            "colorscale": [
             [
              0,
              "#0d0887"
             ],
             [
              0.1111111111111111,
              "#46039f"
             ],
             [
              0.2222222222222222,
              "#7201a8"
             ],
             [
              0.3333333333333333,
              "#9c179e"
             ],
             [
              0.4444444444444444,
              "#bd3786"
             ],
             [
              0.5555555555555556,
              "#d8576b"
             ],
             [
              0.6666666666666666,
              "#ed7953"
             ],
             [
              0.7777777777777778,
              "#fb9f3a"
             ],
             [
              0.8888888888888888,
              "#fdca26"
             ],
             [
              1,
              "#f0f921"
             ]
            ],
            "type": "contour"
           }
          ],
          "contourcarpet": [
           {
            "colorbar": {
             "outlinewidth": 0,
             "ticks": ""
            },
            "type": "contourcarpet"
           }
          ],
          "heatmap": [
           {
            "colorbar": {
             "outlinewidth": 0,
             "ticks": ""
            },
            "colorscale": [
             [
              0,
              "#0d0887"
             ],
             [
              0.1111111111111111,
              "#46039f"
             ],
             [
              0.2222222222222222,
              "#7201a8"
             ],
             [
              0.3333333333333333,
              "#9c179e"
             ],
             [
              0.4444444444444444,
              "#bd3786"
             ],
             [
              0.5555555555555556,
              "#d8576b"
             ],
             [
              0.6666666666666666,
              "#ed7953"
             ],
             [
              0.7777777777777778,
              "#fb9f3a"
             ],
             [
              0.8888888888888888,
              "#fdca26"
             ],
             [
              1,
              "#f0f921"
             ]
            ],
            "type": "heatmap"
           }
          ],
          "histogram": [
           {
            "marker": {
             "pattern": {
              "fillmode": "overlay",
              "size": 10,
              "solidity": 0.2
             }
            },
            "type": "histogram"
           }
          ],
          "histogram2d": [
           {
            "colorbar": {
             "outlinewidth": 0,
             "ticks": ""
            },
            "colorscale": [
             [
              0,
              "#0d0887"
             ],
             [
              0.1111111111111111,
              "#46039f"
             ],
             [
              0.2222222222222222,
              "#7201a8"
             ],
             [
              0.3333333333333333,
              "#9c179e"
             ],
             [
              0.4444444444444444,
              "#bd3786"
             ],
             [
              0.5555555555555556,
              "#d8576b"
             ],
             [
              0.6666666666666666,
              "#ed7953"
             ],
             [
              0.7777777777777778,
              "#fb9f3a"
             ],
             [
              0.8888888888888888,
              "#fdca26"
             ],
             [
              1,
              "#f0f921"
             ]
            ],
            "type": "histogram2d"
           }
          ],
          "histogram2dcontour": [
           {
            "colorbar": {
             "outlinewidth": 0,
             "ticks": ""
            },
            "colorscale": [
             [
              0,
              "#0d0887"
             ],
             [
              0.1111111111111111,
              "#46039f"
             ],
             [
              0.2222222222222222,
              "#7201a8"
             ],
             [
              0.3333333333333333,
              "#9c179e"
             ],
             [
              0.4444444444444444,
              "#bd3786"
             ],
             [
              0.5555555555555556,
              "#d8576b"
             ],
             [
              0.6666666666666666,
              "#ed7953"
             ],
             [
              0.7777777777777778,
              "#fb9f3a"
             ],
             [
              0.8888888888888888,
              "#fdca26"
             ],
             [
              1,
              "#f0f921"
             ]
            ],
            "type": "histogram2dcontour"
           }
          ],
          "mesh3d": [
           {
            "colorbar": {
             "outlinewidth": 0,
             "ticks": ""
            },
            "type": "mesh3d"
           }
          ],
          "parcoords": [
           {
            "line": {
             "colorbar": {
              "outlinewidth": 0,
              "ticks": ""
             }
            },
            "type": "parcoords"
           }
          ],
          "pie": [
           {
            "automargin": true,
            "type": "pie"
           }
          ],
          "scatter": [
           {
            "fillpattern": {
             "fillmode": "overlay",
             "size": 10,
             "solidity": 0.2
            },
            "type": "scatter"
           }
          ],
          "scatter3d": [
           {
            "line": {
             "colorbar": {
              "outlinewidth": 0,
              "ticks": ""
             }
            },
            "marker": {
             "colorbar": {
              "outlinewidth": 0,
              "ticks": ""
             }
            },
            "type": "scatter3d"
           }
          ],
          "scattercarpet": [
           {
            "marker": {
             "colorbar": {
              "outlinewidth": 0,
              "ticks": ""
             }
            },
            "type": "scattercarpet"
           }
          ],
          "scattergeo": [
           {
            "marker": {
             "colorbar": {
              "outlinewidth": 0,
              "ticks": ""
             }
            },
            "type": "scattergeo"
           }
          ],
          "scattergl": [
           {
            "marker": {
             "colorbar": {
              "outlinewidth": 0,
              "ticks": ""
             }
            },
            "type": "scattergl"
           }
          ],
          "scattermap": [
           {
            "marker": {
             "colorbar": {
              "outlinewidth": 0,
              "ticks": ""
             }
            },
            "type": "scattermap"
           }
          ],
          "scattermapbox": [
           {
            "marker": {
             "colorbar": {
              "outlinewidth": 0,
              "ticks": ""
             }
            },
            "type": "scattermapbox"
           }
          ],
          "scatterpolar": [
           {
            "marker": {
             "colorbar": {
              "outlinewidth": 0,
              "ticks": ""
             }
            },
            "type": "scatterpolar"
           }
          ],
          "scatterpolargl": [
           {
            "marker": {
             "colorbar": {
              "outlinewidth": 0,
              "ticks": ""
             }
            },
            "type": "scatterpolargl"
           }
          ],
          "scatterternary": [
           {
            "marker": {
             "colorbar": {
              "outlinewidth": 0,
              "ticks": ""
             }
            },
            "type": "scatterternary"
           }
          ],
          "surface": [
           {
            "colorbar": {
             "outlinewidth": 0,
             "ticks": ""
            },
            "colorscale": [
             [
              0,
              "#0d0887"
             ],
             [
              0.1111111111111111,
              "#46039f"
             ],
             [
              0.2222222222222222,
              "#7201a8"
             ],
             [
              0.3333333333333333,
              "#9c179e"
             ],
             [
              0.4444444444444444,
              "#bd3786"
             ],
             [
              0.5555555555555556,
              "#d8576b"
             ],
             [
              0.6666666666666666,
              "#ed7953"
             ],
             [
              0.7777777777777778,
              "#fb9f3a"
             ],
             [
              0.8888888888888888,
              "#fdca26"
             ],
             [
              1,
              "#f0f921"
             ]
            ],
            "type": "surface"
           }
          ],
          "table": [
           {
            "cells": {
             "fill": {
              "color": "#EBF0F8"
             },
             "line": {
              "color": "white"
             }
            },
            "header": {
             "fill": {
              "color": "#C8D4E3"
             },
             "line": {
              "color": "white"
             }
            },
            "type": "table"
           }
          ]
         },
         "layout": {
          "annotationdefaults": {
           "arrowcolor": "#2a3f5f",
           "arrowhead": 0,
           "arrowwidth": 1
          },
          "autotypenumbers": "strict",
          "coloraxis": {
           "colorbar": {
            "outlinewidth": 0,
            "ticks": ""
           }
          },
          "colorscale": {
           "diverging": [
            [
             0,
             "#8e0152"
            ],
            [
             0.1,
             "#c51b7d"
            ],
            [
             0.2,
             "#de77ae"
            ],
            [
             0.3,
             "#f1b6da"
            ],
            [
             0.4,
             "#fde0ef"
            ],
            [
             0.5,
             "#f7f7f7"
            ],
            [
             0.6,
             "#e6f5d0"
            ],
            [
             0.7,
             "#b8e186"
            ],
            [
             0.8,
             "#7fbc41"
            ],
            [
             0.9,
             "#4d9221"
            ],
            [
             1,
             "#276419"
            ]
           ],
           "sequential": [
            [
             0,
             "#0d0887"
            ],
            [
             0.1111111111111111,
             "#46039f"
            ],
            [
             0.2222222222222222,
             "#7201a8"
            ],
            [
             0.3333333333333333,
             "#9c179e"
            ],
            [
             0.4444444444444444,
             "#bd3786"
            ],
            [
             0.5555555555555556,
             "#d8576b"
            ],
            [
             0.6666666666666666,
             "#ed7953"
            ],
            [
             0.7777777777777778,
             "#fb9f3a"
            ],
            [
             0.8888888888888888,
             "#fdca26"
            ],
            [
             1,
             "#f0f921"
            ]
           ],
           "sequentialminus": [
            [
             0,
             "#0d0887"
            ],
            [
             0.1111111111111111,
             "#46039f"
            ],
            [
             0.2222222222222222,
             "#7201a8"
            ],
            [
             0.3333333333333333,
             "#9c179e"
            ],
            [
             0.4444444444444444,
             "#bd3786"
            ],
            [
             0.5555555555555556,
             "#d8576b"
            ],
            [
             0.6666666666666666,
             "#ed7953"
            ],
            [
             0.7777777777777778,
             "#fb9f3a"
            ],
            [
             0.8888888888888888,
             "#fdca26"
            ],
            [
             1,
             "#f0f921"
            ]
           ]
          },
          "colorway": [
           "#636efa",
           "#EF553B",
           "#00cc96",
           "#ab63fa",
           "#FFA15A",
           "#19d3f3",
           "#FF6692",
           "#B6E880",
           "#FF97FF",
           "#FECB52"
          ],
          "font": {
           "color": "#2a3f5f"
          },
          "geo": {
           "bgcolor": "white",
           "lakecolor": "white",
           "landcolor": "#E5ECF6",
           "showlakes": true,
           "showland": true,
           "subunitcolor": "white"
          },
          "hoverlabel": {
           "align": "left"
          },
          "hovermode": "closest",
          "mapbox": {
           "style": "light"
          },
          "paper_bgcolor": "white",
          "plot_bgcolor": "#E5ECF6",
          "polar": {
           "angularaxis": {
            "gridcolor": "white",
            "linecolor": "white",
            "ticks": ""
           },
           "bgcolor": "#E5ECF6",
           "radialaxis": {
            "gridcolor": "white",
            "linecolor": "white",
            "ticks": ""
           }
          },
          "scene": {
           "xaxis": {
            "backgroundcolor": "#E5ECF6",
            "gridcolor": "white",
            "gridwidth": 2,
            "linecolor": "white",
            "showbackground": true,
            "ticks": "",
            "zerolinecolor": "white"
           },
           "yaxis": {
            "backgroundcolor": "#E5ECF6",
            "gridcolor": "white",
            "gridwidth": 2,
            "linecolor": "white",
            "showbackground": true,
            "ticks": "",
            "zerolinecolor": "white"
           },
           "zaxis": {
            "backgroundcolor": "#E5ECF6",
            "gridcolor": "white",
            "gridwidth": 2,
            "linecolor": "white",
            "showbackground": true,
            "ticks": "",
            "zerolinecolor": "white"
           }
          },
          "shapedefaults": {
           "line": {
            "color": "#2a3f5f"
           }
          },
          "ternary": {
           "aaxis": {
            "gridcolor": "white",
            "linecolor": "white",
            "ticks": ""
           },
           "baxis": {
            "gridcolor": "white",
            "linecolor": "white",
            "ticks": ""
           },
           "bgcolor": "#E5ECF6",
           "caxis": {
            "gridcolor": "white",
            "linecolor": "white",
            "ticks": ""
           }
          },
          "title": {
           "x": 0.05
          },
          "xaxis": {
           "automargin": true,
           "gridcolor": "white",
           "linecolor": "white",
           "ticks": "",
           "title": {
            "standoff": 15
           },
           "zerolinecolor": "white",
           "zerolinewidth": 2
          },
          "yaxis": {
           "automargin": true,
           "gridcolor": "white",
           "linecolor": "white",
           "ticks": "",
           "title": {
            "standoff": 15
           },
           "zerolinecolor": "white",
           "zerolinewidth": 2
          }
         }
        },
        "title": {
         "text": "Studios by Number of Films"
        }
       }
      }
     },
     "metadata": {},
     "output_type": "display_data"
    }
   ],
   "source": [
    "fig4= px.pie(names= count_studios.index, values= count_studios.values, title='Studios by Number of Films',\n",
    "    color_discrete_sequence=px.colors.qualitative.Pastel)\n",
    "fig4.update_traces(textinfo='percent+label') \n",
    "fig4.show()"
   ]
  },
  {
   "cell_type": "code",
   "execution_count": 49,
   "id": "f92aee82",
   "metadata": {},
   "outputs": [],
   "source": [
    "## Top Languages by Film Count\n",
    "Top_language= df['Original_language'].value_counts().sort_values(ascending = False).head(15)"
   ]
  },
  {
   "cell_type": "code",
   "execution_count": 63,
   "id": "e6522976",
   "metadata": {},
   "outputs": [
    {
     "data": {
      "application/vnd.plotly.v1+json": {
       "config": {
        "plotlyServerURL": "https://plot.ly"
       },
       "data": [
        {
         "domain": {
          "x": [
           0,
           1
          ],
          "y": [
           0,
           1
          ]
         },
         "hovertemplate": "label=%{label}<br>value=%{value}<extra></extra>",
         "labels": [
          "English",
          "Italian",
          "Japanese",
          "French",
          "Korean",
          "Spanish",
          "German",
          "No spoken language",
          "Chinese",
          "Danish",
          "Cantonese",
          "Russian",
          "Swedish",
          "Polish",
          "Dutch"
         ],
         "legendgroup": "",
         "name": "",
         "showlegend": true,
         "textinfo": "percent",
         "type": "pie",
         "values": {
          "bdata": "ih+MATQBIwGRAHMAYABeAEIAPAA6ACsAIAAUABQA",
          "dtype": "i2"
         }
        }
       ],
       "layout": {
        "height": 500,
        "legend": {
         "tracegroupgap": 0
        },
        "piecolorway": [
         "rgb(179,226,205)",
         "rgb(253,205,172)",
         "rgb(203,213,232)",
         "rgb(244,202,228)",
         "rgb(230,245,201)",
         "rgb(255,242,174)",
         "rgb(241,226,204)",
         "rgb(204,204,204)"
        ],
        "template": {
         "data": {
          "bar": [
           {
            "error_x": {
             "color": "#2a3f5f"
            },
            "error_y": {
             "color": "#2a3f5f"
            },
            "marker": {
             "line": {
              "color": "#E5ECF6",
              "width": 0.5
             },
             "pattern": {
              "fillmode": "overlay",
              "size": 10,
              "solidity": 0.2
             }
            },
            "type": "bar"
           }
          ],
          "barpolar": [
           {
            "marker": {
             "line": {
              "color": "#E5ECF6",
              "width": 0.5
             },
             "pattern": {
              "fillmode": "overlay",
              "size": 10,
              "solidity": 0.2
             }
            },
            "type": "barpolar"
           }
          ],
          "carpet": [
           {
            "aaxis": {
             "endlinecolor": "#2a3f5f",
             "gridcolor": "white",
             "linecolor": "white",
             "minorgridcolor": "white",
             "startlinecolor": "#2a3f5f"
            },
            "baxis": {
             "endlinecolor": "#2a3f5f",
             "gridcolor": "white",
             "linecolor": "white",
             "minorgridcolor": "white",
             "startlinecolor": "#2a3f5f"
            },
            "type": "carpet"
           }
          ],
          "choropleth": [
           {
            "colorbar": {
             "outlinewidth": 0,
             "ticks": ""
            },
            "type": "choropleth"
           }
          ],
          "contour": [
           {
            "colorbar": {
             "outlinewidth": 0,
             "ticks": ""
            },
            "colorscale": [
             [
              0,
              "#0d0887"
             ],
             [
              0.1111111111111111,
              "#46039f"
             ],
             [
              0.2222222222222222,
              "#7201a8"
             ],
             [
              0.3333333333333333,
              "#9c179e"
             ],
             [
              0.4444444444444444,
              "#bd3786"
             ],
             [
              0.5555555555555556,
              "#d8576b"
             ],
             [
              0.6666666666666666,
              "#ed7953"
             ],
             [
              0.7777777777777778,
              "#fb9f3a"
             ],
             [
              0.8888888888888888,
              "#fdca26"
             ],
             [
              1,
              "#f0f921"
             ]
            ],
            "type": "contour"
           }
          ],
          "contourcarpet": [
           {
            "colorbar": {
             "outlinewidth": 0,
             "ticks": ""
            },
            "type": "contourcarpet"
           }
          ],
          "heatmap": [
           {
            "colorbar": {
             "outlinewidth": 0,
             "ticks": ""
            },
            "colorscale": [
             [
              0,
              "#0d0887"
             ],
             [
              0.1111111111111111,
              "#46039f"
             ],
             [
              0.2222222222222222,
              "#7201a8"
             ],
             [
              0.3333333333333333,
              "#9c179e"
             ],
             [
              0.4444444444444444,
              "#bd3786"
             ],
             [
              0.5555555555555556,
              "#d8576b"
             ],
             [
              0.6666666666666666,
              "#ed7953"
             ],
             [
              0.7777777777777778,
              "#fb9f3a"
             ],
             [
              0.8888888888888888,
              "#fdca26"
             ],
             [
              1,
              "#f0f921"
             ]
            ],
            "type": "heatmap"
           }
          ],
          "histogram": [
           {
            "marker": {
             "pattern": {
              "fillmode": "overlay",
              "size": 10,
              "solidity": 0.2
             }
            },
            "type": "histogram"
           }
          ],
          "histogram2d": [
           {
            "colorbar": {
             "outlinewidth": 0,
             "ticks": ""
            },
            "colorscale": [
             [
              0,
              "#0d0887"
             ],
             [
              0.1111111111111111,
              "#46039f"
             ],
             [
              0.2222222222222222,
              "#7201a8"
             ],
             [
              0.3333333333333333,
              "#9c179e"
             ],
             [
              0.4444444444444444,
              "#bd3786"
             ],
             [
              0.5555555555555556,
              "#d8576b"
             ],
             [
              0.6666666666666666,
              "#ed7953"
             ],
             [
              0.7777777777777778,
              "#fb9f3a"
             ],
             [
              0.8888888888888888,
              "#fdca26"
             ],
             [
              1,
              "#f0f921"
             ]
            ],
            "type": "histogram2d"
           }
          ],
          "histogram2dcontour": [
           {
            "colorbar": {
             "outlinewidth": 0,
             "ticks": ""
            },
            "colorscale": [
             [
              0,
              "#0d0887"
             ],
             [
              0.1111111111111111,
              "#46039f"
             ],
             [
              0.2222222222222222,
              "#7201a8"
             ],
             [
              0.3333333333333333,
              "#9c179e"
             ],
             [
              0.4444444444444444,
              "#bd3786"
             ],
             [
              0.5555555555555556,
              "#d8576b"
             ],
             [
              0.6666666666666666,
              "#ed7953"
             ],
             [
              0.7777777777777778,
              "#fb9f3a"
             ],
             [
              0.8888888888888888,
              "#fdca26"
             ],
             [
              1,
              "#f0f921"
             ]
            ],
            "type": "histogram2dcontour"
           }
          ],
          "mesh3d": [
           {
            "colorbar": {
             "outlinewidth": 0,
             "ticks": ""
            },
            "type": "mesh3d"
           }
          ],
          "parcoords": [
           {
            "line": {
             "colorbar": {
              "outlinewidth": 0,
              "ticks": ""
             }
            },
            "type": "parcoords"
           }
          ],
          "pie": [
           {
            "automargin": true,
            "type": "pie"
           }
          ],
          "scatter": [
           {
            "fillpattern": {
             "fillmode": "overlay",
             "size": 10,
             "solidity": 0.2
            },
            "type": "scatter"
           }
          ],
          "scatter3d": [
           {
            "line": {
             "colorbar": {
              "outlinewidth": 0,
              "ticks": ""
             }
            },
            "marker": {
             "colorbar": {
              "outlinewidth": 0,
              "ticks": ""
             }
            },
            "type": "scatter3d"
           }
          ],
          "scattercarpet": [
           {
            "marker": {
             "colorbar": {
              "outlinewidth": 0,
              "ticks": ""
             }
            },
            "type": "scattercarpet"
           }
          ],
          "scattergeo": [
           {
            "marker": {
             "colorbar": {
              "outlinewidth": 0,
              "ticks": ""
             }
            },
            "type": "scattergeo"
           }
          ],
          "scattergl": [
           {
            "marker": {
             "colorbar": {
              "outlinewidth": 0,
              "ticks": ""
             }
            },
            "type": "scattergl"
           }
          ],
          "scattermap": [
           {
            "marker": {
             "colorbar": {
              "outlinewidth": 0,
              "ticks": ""
             }
            },
            "type": "scattermap"
           }
          ],
          "scattermapbox": [
           {
            "marker": {
             "colorbar": {
              "outlinewidth": 0,
              "ticks": ""
             }
            },
            "type": "scattermapbox"
           }
          ],
          "scatterpolar": [
           {
            "marker": {
             "colorbar": {
              "outlinewidth": 0,
              "ticks": ""
             }
            },
            "type": "scatterpolar"
           }
          ],
          "scatterpolargl": [
           {
            "marker": {
             "colorbar": {
              "outlinewidth": 0,
              "ticks": ""
             }
            },
            "type": "scatterpolargl"
           }
          ],
          "scatterternary": [
           {
            "marker": {
             "colorbar": {
              "outlinewidth": 0,
              "ticks": ""
             }
            },
            "type": "scatterternary"
           }
          ],
          "surface": [
           {
            "colorbar": {
             "outlinewidth": 0,
             "ticks": ""
            },
            "colorscale": [
             [
              0,
              "#0d0887"
             ],
             [
              0.1111111111111111,
              "#46039f"
             ],
             [
              0.2222222222222222,
              "#7201a8"
             ],
             [
              0.3333333333333333,
              "#9c179e"
             ],
             [
              0.4444444444444444,
              "#bd3786"
             ],
             [
              0.5555555555555556,
              "#d8576b"
             ],
             [
              0.6666666666666666,
              "#ed7953"
             ],
             [
              0.7777777777777778,
              "#fb9f3a"
             ],
             [
              0.8888888888888888,
              "#fdca26"
             ],
             [
              1,
              "#f0f921"
             ]
            ],
            "type": "surface"
           }
          ],
          "table": [
           {
            "cells": {
             "fill": {
              "color": "#EBF0F8"
             },
             "line": {
              "color": "white"
             }
            },
            "header": {
             "fill": {
              "color": "#C8D4E3"
             },
             "line": {
              "color": "white"
             }
            },
            "type": "table"
           }
          ]
         },
         "layout": {
          "annotationdefaults": {
           "arrowcolor": "#2a3f5f",
           "arrowhead": 0,
           "arrowwidth": 1
          },
          "autotypenumbers": "strict",
          "coloraxis": {
           "colorbar": {
            "outlinewidth": 0,
            "ticks": ""
           }
          },
          "colorscale": {
           "diverging": [
            [
             0,
             "#8e0152"
            ],
            [
             0.1,
             "#c51b7d"
            ],
            [
             0.2,
             "#de77ae"
            ],
            [
             0.3,
             "#f1b6da"
            ],
            [
             0.4,
             "#fde0ef"
            ],
            [
             0.5,
             "#f7f7f7"
            ],
            [
             0.6,
             "#e6f5d0"
            ],
            [
             0.7,
             "#b8e186"
            ],
            [
             0.8,
             "#7fbc41"
            ],
            [
             0.9,
             "#4d9221"
            ],
            [
             1,
             "#276419"
            ]
           ],
           "sequential": [
            [
             0,
             "#0d0887"
            ],
            [
             0.1111111111111111,
             "#46039f"
            ],
            [
             0.2222222222222222,
             "#7201a8"
            ],
            [
             0.3333333333333333,
             "#9c179e"
            ],
            [
             0.4444444444444444,
             "#bd3786"
            ],
            [
             0.5555555555555556,
             "#d8576b"
            ],
            [
             0.6666666666666666,
             "#ed7953"
            ],
            [
             0.7777777777777778,
             "#fb9f3a"
            ],
            [
             0.8888888888888888,
             "#fdca26"
            ],
            [
             1,
             "#f0f921"
            ]
           ],
           "sequentialminus": [
            [
             0,
             "#0d0887"
            ],
            [
             0.1111111111111111,
             "#46039f"
            ],
            [
             0.2222222222222222,
             "#7201a8"
            ],
            [
             0.3333333333333333,
             "#9c179e"
            ],
            [
             0.4444444444444444,
             "#bd3786"
            ],
            [
             0.5555555555555556,
             "#d8576b"
            ],
            [
             0.6666666666666666,
             "#ed7953"
            ],
            [
             0.7777777777777778,
             "#fb9f3a"
            ],
            [
             0.8888888888888888,
             "#fdca26"
            ],
            [
             1,
             "#f0f921"
            ]
           ]
          },
          "colorway": [
           "#636efa",
           "#EF553B",
           "#00cc96",
           "#ab63fa",
           "#FFA15A",
           "#19d3f3",
           "#FF6692",
           "#B6E880",
           "#FF97FF",
           "#FECB52"
          ],
          "font": {
           "color": "#2a3f5f"
          },
          "geo": {
           "bgcolor": "white",
           "lakecolor": "white",
           "landcolor": "#E5ECF6",
           "showlakes": true,
           "showland": true,
           "subunitcolor": "white"
          },
          "hoverlabel": {
           "align": "left"
          },
          "hovermode": "closest",
          "mapbox": {
           "style": "light"
          },
          "paper_bgcolor": "white",
          "plot_bgcolor": "#E5ECF6",
          "polar": {
           "angularaxis": {
            "gridcolor": "white",
            "linecolor": "white",
            "ticks": ""
           },
           "bgcolor": "#E5ECF6",
           "radialaxis": {
            "gridcolor": "white",
            "linecolor": "white",
            "ticks": ""
           }
          },
          "scene": {
           "xaxis": {
            "backgroundcolor": "#E5ECF6",
            "gridcolor": "white",
            "gridwidth": 2,
            "linecolor": "white",
            "showbackground": true,
            "ticks": "",
            "zerolinecolor": "white"
           },
           "yaxis": {
            "backgroundcolor": "#E5ECF6",
            "gridcolor": "white",
            "gridwidth": 2,
            "linecolor": "white",
            "showbackground": true,
            "ticks": "",
            "zerolinecolor": "white"
           },
           "zaxis": {
            "backgroundcolor": "#E5ECF6",
            "gridcolor": "white",
            "gridwidth": 2,
            "linecolor": "white",
            "showbackground": true,
            "ticks": "",
            "zerolinecolor": "white"
           }
          },
          "shapedefaults": {
           "line": {
            "color": "#2a3f5f"
           }
          },
          "ternary": {
           "aaxis": {
            "gridcolor": "white",
            "linecolor": "white",
            "ticks": ""
           },
           "baxis": {
            "gridcolor": "white",
            "linecolor": "white",
            "ticks": ""
           },
           "bgcolor": "#E5ECF6",
           "caxis": {
            "gridcolor": "white",
            "linecolor": "white",
            "ticks": ""
           }
          },
          "title": {
           "x": 0.05
          },
          "xaxis": {
           "automargin": true,
           "gridcolor": "white",
           "linecolor": "white",
           "ticks": "",
           "title": {
            "standoff": 15
           },
           "zerolinecolor": "white",
           "zerolinewidth": 2
          },
          "yaxis": {
           "automargin": true,
           "gridcolor": "white",
           "linecolor": "white",
           "ticks": "",
           "title": {
            "standoff": 15
           },
           "zerolinecolor": "white",
           "zerolinewidth": 2
          }
         }
        },
        "title": {
         "text": "Top languages"
        },
        "width": 600
       }
      }
     },
     "metadata": {},
     "output_type": "display_data"
    }
   ],
   "source": [
    "fig5= px.pie(names = Top_language.index, values= Top_language.values, title= 'Top languages', color_discrete_sequence= px.colors.qualitative.Pastel2)\n",
    "fig5.update_traces(textinfo= 'percent')\n",
    "fig5.update_layout(height = 500, width= 600)\n",
    "fig5.show()"
   ]
  },
  {
   "cell_type": "code",
   "execution_count": null,
   "id": "937691ae",
   "metadata": {},
   "outputs": [],
   "source": [
    "## Languages with Highest Avg Rating"
   ]
  },
  {
   "cell_type": "code",
   "execution_count": 67,
   "metadata": {},
   "outputs": [
    {
     "data": {
      "text/plain": [
       "Original_language\n",
       "English               4.71\n",
       "Japanese              4.69\n",
       "Russian               4.63\n",
       "Korean                4.55\n",
       "Portuguese            4.54\n",
       "Chinese               4.54\n",
       "French                4.51\n",
       "Italian               4.50\n",
       "Swedish               4.48\n",
       "No spoken language    4.43\n",
       "Name: Average_rating, dtype: float64"
      ]
     },
     "execution_count": 67,
     "metadata": {},
     "output_type": "execute_result"
    }
   ],
   "source": [
    "highest_avg_lang= df.groupby('Original_language')['Average_rating'].max().sort_values(ascending= False).head(10)\n",
    "highest_avg_lang"
   ]
  },
  {
   "cell_type": "code",
   "execution_count": null,
   "id": "b78cd96a",
   "metadata": {},
   "outputs": [
    {
     "data": {
      "text/html": [
       "<div>\n",
       "<style scoped>\n",
       "    .dataframe tbody tr th:only-of-type {\n",
       "        vertical-align: middle;\n",
       "    }\n",
       "\n",
       "    .dataframe tbody tr th {\n",
       "        vertical-align: top;\n",
       "    }\n",
       "\n",
       "    .dataframe thead th {\n",
       "        text-align: right;\n",
       "    }\n",
       "</style>\n",
       "<table border=\"1\" class=\"dataframe\">\n",
       "  <thead>\n",
       "    <tr style=\"text-align: right;\">\n",
       "      <th></th>\n",
       "      <th>Runtime</th>\n",
       "      <th>Average_rating</th>\n",
       "      <th>Watches</th>\n",
       "    </tr>\n",
       "  </thead>\n",
       "  <tbody>\n",
       "    <tr>\n",
       "      <th>Runtime</th>\n",
       "      <td>1.000000</td>\n",
       "      <td>0.186539</td>\n",
       "      <td>0.145699</td>\n",
       "    </tr>\n",
       "    <tr>\n",
       "      <th>Average_rating</th>\n",
       "      <td>0.186539</td>\n",
       "      <td>1.000000</td>\n",
       "      <td>0.248686</td>\n",
       "    </tr>\n",
       "    <tr>\n",
       "      <th>Watches</th>\n",
       "      <td>0.145699</td>\n",
       "      <td>0.248686</td>\n",
       "      <td>1.000000</td>\n",
       "    </tr>\n",
       "  </tbody>\n",
       "</table>\n",
       "</div>"
      ],
      "text/plain": [
       "                 Runtime  Average_rating   Watches\n",
       "Runtime         1.000000        0.186539  0.145699\n",
       "Average_rating  0.186539        1.000000  0.248686\n",
       "Watches         0.145699        0.248686  1.000000"
      ]
     },
     "execution_count": 69,
     "metadata": {},
     "output_type": "execute_result"
    }
   ],
   "source": [
    "## Correlation between Runtime, Rating, and Watches\n",
    "corr= df[['Runtime', 'Average_rating', 'Watches']].corr()\n",
    "corr"
   ]
  },
  {
   "cell_type": "code",
   "execution_count": null,
   "metadata": {},
   "outputs": [
    {
     "data": {
      "image/png": "[encoded data removed]",
      "text/plain": [
       "<Figure size 600x400 with 2 Axes>"
      ]
     },
     "metadata": {},
     "output_type": "display_data"
    }
   ],
   "source": [
    "plt.figure(figsize= (6,4))\n",
    "sns.heatmap(corr, annot = True, cmap='coolwarm', fmt=\".2f\")\n",
    "plt.title('Correlation between Runtime, Rating, and Watches')\n",
    "plt.show()"
   ]
  },
  {
   "cell_type": "code",
   "execution_count": null,
   "id": "2a3174a9",
   "metadata": {},
   "outputs": [],
   "source": []
  },
  {
   "cell_type": "code",
   "execution_count": null,
   "id": "88198b09",
   "metadata": {},
   "outputs": [],
   "source": []
  },
  {
   "cell_type": "code",
   "execution_count": null,
   "id": "2669233a",
   "metadata": {},
   "outputs": [],
   "source": []
  },
  {
   "cell_type": "code",
   "execution_count": null,
   "id": "33f0f489",
   "metadata": {},
   "outputs": [],
   "source": []
  }
 ],
 "metadata": {
  "kernelspec": {
   "display_name": "Python 3",
   "language": "python",
   "name": "python3"
  },
  "language_info": {
   "codemirror_mode": {
    "name": "ipython",
    "version": 3
   },
   "file_extension": ".py",
   "mimetype": "text/x-python",
   "name": "python",
   "nbconvert_exporter": "python",
   "pygments_lexer": "ipython3",
   "version": "3.13.3"
  }
 },
 "nbformat": 4,
 "nbformat_minor": 5
}
